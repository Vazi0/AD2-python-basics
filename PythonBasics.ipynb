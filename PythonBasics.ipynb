{
  "nbformat": 4,
  "nbformat_minor": 0,
  "metadata": {
    "colab": {
      "provenance": [],
      "toc_visible": true,
      "authorship_tag": "ABX9TyM8QCEUiejLILdetVPSrk3N",
      "include_colab_link": true
    },
    "kernelspec": {
      "name": "python3",
      "display_name": "Python 3"
    },
    "language_info": {
      "name": "python"
    }
  },
  "cells": [
    {
      "cell_type": "markdown",
      "metadata": {
        "id": "view-in-github",
        "colab_type": "text"
      },
      "source": [
        "<a href=\"https://colab.research.google.com/github/Vazi0/AD2-python-basics/blob/main/PythonBasics.ipynb\" target=\"_parent\"><img src=\"https://colab.research.google.com/assets/colab-badge.svg\" alt=\"Open In Colab\"/></a>"
      ]
    },
    {
      "cell_type": "markdown",
      "source": [
        "# FUNDAMENTOS DE PYTHON\n",
        "Escola: SoulCode Academy\n",
        "\n",
        "Curso: Bootcamp Analista de Dados - Martech - AD2\n",
        "\n",
        "Periodo: Semana 4\n",
        "\n",
        "Professores: Franciane Rodrigues e Douglas Ribeiro\n",
        "\n",
        "Aluno: Igor Honorio"
      ],
      "metadata": {
        "id": "UTC7kzkr2zbs"
      }
    },
    {
      "cell_type": "markdown",
      "source": [
        "* **Lógica de programação:** é um conceito teórico que se refere à forma de pensar e abordar problemas de programação.\n",
        "\n",
        "* **Algoritmo** é uma descrição abstrata de um processo ou solução que poderá ser executado por um computador;\n",
        "* **Script** é um conjunto de instruções ou comandos escritos em uma linguagem de programação específica. Geralmente, os scripts são usados para automatizar tarefas ou para definir o comportamento de um programa ou sistema. Eles são frequentemente executados interpretando linha por linha, em vez de serem compilados em um programa executável separado.\n",
        "* **Programa** é  um conjunto de instruções escritas em uma linguagem de programação específica, organizadas de forma lógica, para realizar uma tarefa ou resolver um problema específico. Ao contrário de um script, um programa é compilado ou interpretado antes da execução, resultando em um arquivo executável que pode ser executado diretamente em um sistema operacional."
      ],
      "metadata": {
        "id": "3SfifxOC2jme"
      }
    },
    {
      "cell_type": "code",
      "execution_count": null,
      "metadata": {
        "colab": {
          "base_uri": "https://localhost:8080/"
        },
        "id": "82ZJ2GW4FoGP",
        "outputId": "3b2bf17e-c1a5-4379-b53d-e59dc0acef42"
      },
      "outputs": [
        {
          "output_type": "stream",
          "name": "stdout",
          "text": [
            "Eai gld\n"
          ]
        }
      ],
      "source": [
        "print(\"Eai gld\")"
      ]
    },
    {
      "cell_type": "code",
      "source": [
        "print('\\nEai,\\nSeu\\nGalado')"
      ],
      "metadata": {
        "colab": {
          "base_uri": "https://localhost:8080/"
        },
        "id": "CZucmojuFx5K",
        "outputId": "32787672-db18-4c9f-b6eb-c7f0e0164e3d"
      },
      "execution_count": null,
      "outputs": [
        {
          "output_type": "stream",
          "name": "stdout",
          "text": [
            "\n",
            "Eai,\n",
            "Seu\n",
            "Galado\n"
          ]
        }
      ]
    },
    {
      "cell_type": "code",
      "source": [
        "# Declarando as variáveis\n",
        "idade = 26\n",
        "altura = 1.65\n",
        "nome = 'Igor'\n",
        "sobrenome = \"Honorio\"\n",
        "filhos = False #se você tem filhos, use True no lugar de False"
      ],
      "metadata": {
        "id": "E5OLWIfiGJU3"
      },
      "execution_count": null,
      "outputs": []
    },
    {
      "cell_type": "code",
      "source": [
        "# Imprimir na tela usando comando print\n",
        "print(idade)\n",
        "print(altura)\n",
        "print(nome)\n",
        "print(sobrenome)\n",
        "print(filhos)"
      ],
      "metadata": {
        "colab": {
          "base_uri": "https://localhost:8080/"
        },
        "id": "oagK3kDoGSi5",
        "outputId": "717376c9-eada-4b5a-d182-5113b9fd59dc"
      },
      "execution_count": null,
      "outputs": [
        {
          "output_type": "stream",
          "name": "stdout",
          "text": [
            "26\n",
            "1.65\n",
            "Igor\n",
            "Honorio\n",
            "False\n"
          ]
        }
      ]
    },
    {
      "cell_type": "code",
      "source": [
        "# Impressão geral na tela de todas as variáveis declaradas\n",
        "print(idade,altura,nome, sobrenome, filhos)"
      ],
      "metadata": {
        "colab": {
          "base_uri": "https://localhost:8080/"
        },
        "id": "Uxn-8QlzGVdB",
        "outputId": "1834b17c-6f25-4540-86ce-476867208918"
      },
      "execution_count": null,
      "outputs": [
        {
          "output_type": "stream",
          "name": "stdout",
          "text": [
            "26 1.65 Igor Honorio False\n"
          ]
        }
      ]
    },
    {
      "cell_type": "code",
      "source": [
        "#Comando typo serve para checarmos o tipo de  dado que a variável está declarando\n",
        "type(idade)"
      ],
      "metadata": {
        "colab": {
          "base_uri": "https://localhost:8080/"
        },
        "id": "rvulwN69GjSg",
        "outputId": "a39b66ca-514a-4393-ddb3-4469e799c24e"
      },
      "execution_count": null,
      "outputs": [
        {
          "output_type": "execute_result",
          "data": {
            "text/plain": [
              "int"
            ]
          },
          "metadata": {},
          "execution_count": 31
        }
      ]
    },
    {
      "cell_type": "code",
      "source": [
        "#Comando typo serve para checarmos o tipo de  dado que a variável está declarando\n",
        "type(idade)\n",
        "type(altura)\n",
        "type(nome)\n",
        "#so pega o ultimo..."
      ],
      "metadata": {
        "colab": {
          "base_uri": "https://localhost:8080/"
        },
        "id": "Ie_lsYsBGl9_",
        "outputId": "cf38d495-0cff-45c0-c990-9083faa6994c"
      },
      "execution_count": null,
      "outputs": [
        {
          "output_type": "execute_result",
          "data": {
            "text/plain": [
              "str"
            ]
          },
          "metadata": {},
          "execution_count": 32
        }
      ]
    },
    {
      "cell_type": "code",
      "source": [
        "# Checando o tipo de variável usando os comandos print e type juntos\n",
        "print(type(idade))\n",
        "print(type(altura))\n",
        "print(type(nome))\n",
        "print(type(sobrenome))\n",
        "print(type(filhos))"
      ],
      "metadata": {
        "colab": {
          "base_uri": "https://localhost:8080/"
        },
        "id": "eFCiMZW3Gxb4",
        "outputId": "c22f230c-8a68-4cf3-be55-d7b2cc728262"
      },
      "execution_count": null,
      "outputs": [
        {
          "output_type": "stream",
          "name": "stdout",
          "text": [
            "<class 'int'>\n",
            "<class 'float'>\n",
            "<class 'str'>\n",
            "<class 'str'>\n",
            "<class 'bool'>\n"
          ]
        }
      ]
    },
    {
      "cell_type": "code",
      "source": [
        "# Armazenando strings e número\n",
        "nome_completo = 'Igor Honório'\n",
        "numero_favorito = \"44\""
      ],
      "metadata": {
        "id": "TszKqrWeHJwa"
      },
      "execution_count": null,
      "outputs": []
    },
    {
      "cell_type": "code",
      "source": [
        "# checando a váriavel número_favorito\n",
        "print(type(numero_favorito))"
      ],
      "metadata": {
        "colab": {
          "base_uri": "https://localhost:8080/"
        },
        "id": "I1kBBoatHTSR",
        "outputId": "7b91a289-26bf-4168-8e93-5cdb415c964b"
      },
      "execution_count": null,
      "outputs": [
        {
          "output_type": "stream",
          "name": "stdout",
          "text": [
            "<class 'str'>\n"
          ]
        }
      ]
    },
    {
      "cell_type": "code",
      "source": [
        "# Se o número estiver entre aspas ele se transforma numa string\n",
        "print(nome_completo, numero_favorito)"
      ],
      "metadata": {
        "colab": {
          "base_uri": "https://localhost:8080/"
        },
        "id": "skQ4auiZHXJg",
        "outputId": "8ba4b15e-c7e6-4e25-852e-7fafd010726f"
      },
      "execution_count": null,
      "outputs": [
        {
          "output_type": "stream",
          "name": "stdout",
          "text": [
            "Igor Honório 44\n"
          ]
        }
      ]
    },
    {
      "cell_type": "code",
      "source": [
        "# Primeiro Nome do nosso codigo\n",
        "nome"
      ],
      "metadata": {
        "colab": {
          "base_uri": "https://localhost:8080/",
          "height": 35
        },
        "id": "XbhwwxTZHc8B",
        "outputId": "5e0dc04f-ae1c-497e-e629-9eff914b1af5"
      },
      "execution_count": null,
      "outputs": [
        {
          "output_type": "execute_result",
          "data": {
            "text/plain": [
              "'Igor'"
            ],
            "application/vnd.google.colaboratory.intrinsic+json": {
              "type": "string"
            }
          },
          "metadata": {},
          "execution_count": 37
        }
      ]
    },
    {
      "cell_type": "code",
      "source": [
        "# Renomeação da variável\n",
        "nome = \"Sara\""
      ],
      "metadata": {
        "id": "DizbezJSHkII"
      },
      "execution_count": null,
      "outputs": []
    },
    {
      "cell_type": "code",
      "source": [
        "# Atualização da variável \"nome\"\n",
        "# Sempre a última alteração será a válida\n",
        "nome"
      ],
      "metadata": {
        "colab": {
          "base_uri": "https://localhost:8080/",
          "height": 35
        },
        "id": "8dHlEyBjHmn5",
        "outputId": "8c2a8d94-1433-4232-80f2-59093ed05adc"
      },
      "execution_count": null,
      "outputs": [
        {
          "output_type": "execute_result",
          "data": {
            "text/plain": [
              "'Sara'"
            ],
            "application/vnd.google.colaboratory.intrinsic+json": {
              "type": "string"
            }
          },
          "metadata": {},
          "execution_count": 39
        }
      ]
    },
    {
      "cell_type": "markdown",
      "source": [
        "Resumo\n",
        "\n",
        "Variáveis permitem salvar valores na memória usando um nome que atribuímos\n",
        "Declaramos um nome no lado esquerdo do operador igual (“=”), e no lado direito, atribuir o valor que queremos salvar para usar mais tarde.\n",
        "Como ler: Declaramos a variável \"a\" ao valor do \"2\" do tipo int\n",
        "a = 2\n",
        "Como ler: Declaramos a variável \"b\" ao valor do \"10.953\" do tipo float\n",
        "b = 10.953\n",
        "Como ler: A variável \"a\" recebe valor 2 do tipo int\n",
        "a = 2\n",
        "Como ler: A variável \"b\" recebe valor 10.953 do tipo float\n",
        "b = 10.953\n",
        "É possível usar os dois comandos print e type juntos\n",
        "Atenção: Número pode ser string\n",
        "Regras para nomes de variáveis\n",
        "\n",
        "Deve começar com uma letra (maíuscula ou minúscula) ou subcrito(_).\n",
        "Nunca pode começar com um número.\n",
        "Pode conter letras maiúsculas, minúsculas, números e subscrito.\n",
        "Não pode-se utilizar como parte do nome de uma variável: { ( + - * / \\ ; . , ?\n",
        "Letras maiúsculas e minúsculas são diferentes: casa = 4 Casa = 4"
      ],
      "metadata": {
        "id": "nzFGIi4ZHsGi"
      }
    },
    {
      "cell_type": "code",
      "source": [
        "# Conversão de int para float\n",
        "num_int = 10\n",
        "num_float = float(num_int)"
      ],
      "metadata": {
        "id": "HnBwTGPYHtB6"
      },
      "execution_count": null,
      "outputs": []
    },
    {
      "cell_type": "code",
      "source": [
        "# Checando a conversão\n",
        "print(type(num_int), type(num_float))\n",
        "print(num_float)"
      ],
      "metadata": {
        "colab": {
          "base_uri": "https://localhost:8080/"
        },
        "id": "3MRb6mINHyip",
        "outputId": "5291819c-3e7a-494e-9656-7016b025af58"
      },
      "execution_count": null,
      "outputs": [
        {
          "output_type": "stream",
          "name": "stdout",
          "text": [
            "<class 'int'> <class 'float'>\n",
            "10.0\n"
          ]
        }
      ]
    },
    {
      "cell_type": "code",
      "source": [
        "# Convesão de int para string\n",
        "num_int = 10\n",
        "num_str = str(num_int)"
      ],
      "metadata": {
        "id": "rXxjjpzMH3xZ"
      },
      "execution_count": null,
      "outputs": []
    },
    {
      "cell_type": "markdown",
      "source": [
        "Exercicio 01 - Como fazer\n",
        "Conversão de variavel1 para variavel2\n",
        "Num_V1 = xx\n",
        "num_v2 = v2(num_v1)\n",
        "Checar variavel\n",
        "print(type(num_v1), type(num_v2))\n",
        "print(num_v2)"
      ],
      "metadata": {
        "id": "LGa0p5D0IBYZ"
      }
    },
    {
      "cell_type": "code",
      "source": [
        "# Conversão de float para str\n",
        "num_float = 10.6\n",
        "num_str = str(num_float)\n",
        "\n",
        "# Checando a conversão\n",
        "print(type(num_float), type(num_str))\n",
        "print(num_str)"
      ],
      "metadata": {
        "colab": {
          "base_uri": "https://localhost:8080/"
        },
        "id": "rF04fJpnICgR",
        "outputId": "5ca02869-f65b-4d38-ba6e-afec39bd0dbe"
      },
      "execution_count": null,
      "outputs": [
        {
          "output_type": "stream",
          "name": "stdout",
          "text": [
            "<class 'float'> <class 'str'>\n",
            "10.6\n"
          ]
        }
      ]
    },
    {
      "cell_type": "code",
      "source": [
        "# Conversão de str para int\n",
        "num_str = \"10\"\n",
        "num_int = int(num_str)\n",
        "\n",
        "# Checando a conversão\n",
        "print(type(num_str), type(num_int))\n",
        "print(num_str)"
      ],
      "metadata": {
        "colab": {
          "base_uri": "https://localhost:8080/"
        },
        "id": "s1jdCzA4Ie_K",
        "outputId": "ffd164f7-aed8-4d10-decc-30094b801b9a"
      },
      "execution_count": null,
      "outputs": [
        {
          "output_type": "stream",
          "name": "stdout",
          "text": [
            "<class 'str'> <class 'int'>\n",
            "10\n"
          ]
        }
      ]
    },
    {
      "cell_type": "code",
      "source": [
        "# Conversão de str para float\n",
        "num_str = \"10.5\"\n",
        "num_float = float(num_str)\n",
        "\n",
        "# Checando a conversão\n",
        "print(type(num_str), type(num_float))\n",
        "print(num_float)"
      ],
      "metadata": {
        "colab": {
          "base_uri": "https://localhost:8080/"
        },
        "id": "2NWj_WjMIhZg",
        "outputId": "252dd7a1-4420-427d-e219-1c136748c87c"
      },
      "execution_count": null,
      "outputs": [
        {
          "output_type": "stream",
          "name": "stdout",
          "text": [
            "<class 'str'> <class 'float'>\n",
            "10.5\n"
          ]
        }
      ]
    },
    {
      "cell_type": "code",
      "source": [
        "# Conversão de str para int ()\n",
        "# num_str = \"10.5\"\n",
        "# num_int = int(num_str)\n",
        "\n",
        "# Conversão de str para int ()\n",
        "num_str = \"10.5\"\n",
        "num_float = float(num_str) #conversão intermediária\n",
        "num_int = int(num_float)\n",
        "\n",
        "# Checando a conversão\n",
        "print(type(num_str), type(num_int))\n",
        "print(num_int)"
      ],
      "metadata": {
        "colab": {
          "base_uri": "https://localhost:8080/"
        },
        "id": "XA-kTxWFIkuL",
        "outputId": "faef6bdb-2b85-44da-9d37-f9fb2ce9d96f"
      },
      "execution_count": null,
      "outputs": [
        {
          "output_type": "stream",
          "name": "stdout",
          "text": [
            "<class 'str'> <class 'int'>\n",
            "10\n"
          ]
        }
      ]
    },
    {
      "cell_type": "code",
      "source": [
        "# Adição\n",
        "n1 = 5.887\n",
        "n2 = 7.15\n",
        "soma = n1 + n2\n",
        "print(soma)\n",
        "print('A soma é:', soma)\n",
        "print(f\"A soma dos números é {soma:.2f}\")\n",
        "print(n1 + n2)\n",
        "n1+n2"
      ],
      "metadata": {
        "colab": {
          "base_uri": "https://localhost:8080/"
        },
        "id": "nIpfiMvmIupI",
        "outputId": "5adaf87a-5198-4647-8ac8-1e61f1695dd7"
      },
      "execution_count": null,
      "outputs": [
        {
          "output_type": "stream",
          "name": "stdout",
          "text": [
            "13.036999999999999\n",
            "A soma é: 13.036999999999999\n",
            "A soma dos números é 13.04\n",
            "13.036999999999999\n"
          ]
        },
        {
          "output_type": "execute_result",
          "data": {
            "text/plain": [
              "13.036999999999999"
            ]
          },
          "metadata": {},
          "execution_count": 47
        }
      ]
    },
    {
      "cell_type": "markdown",
      "source": [
        "No contexto do Python, o \"f\" em \".2f\" é usado como um indicador de formatação para strings, mais especificamente para formatar números decimais. A letra \"f\" é derivada da palavra \"float\" (que significa \"ponto flutuante\" em inglês), que é o tipo de dado utilizado para representar números decimais em Python."
      ],
      "metadata": {
        "id": "S5QgO900I-_J"
      }
    },
    {
      "cell_type": "code",
      "source": [
        "# Subtração\n",
        "a1 = 154.587\n",
        "a2 = 10.548\n",
        "sub = a1 - a2\n",
        "\n",
        "# Modos de apresentação\n",
        "print(sub)\n",
        "print('A subtração é:', round(sub, 2))\n",
        "print(f\"A subtração dos números é {sub:.2f}\")\n",
        "print(a1 - a2)\n",
        "a1 - a2"
      ],
      "metadata": {
        "colab": {
          "base_uri": "https://localhost:8080/"
        },
        "id": "9Zvvpo_BI_X5",
        "outputId": "2b6c1252-c587-4ff6-cc77-dabe25a9ad60"
      },
      "execution_count": null,
      "outputs": [
        {
          "output_type": "stream",
          "name": "stdout",
          "text": [
            "144.039\n",
            "A subtração é: 144.04\n",
            "A subtração dos números é 144.04\n",
            "144.039\n"
          ]
        },
        {
          "output_type": "execute_result",
          "data": {
            "text/plain": [
              "144.039"
            ]
          },
          "metadata": {},
          "execution_count": 48
        }
      ]
    },
    {
      "cell_type": "code",
      "source": [
        "#Multiplicação\n",
        "b1= 3.5\n",
        "multi= b1*3\n",
        "\n",
        "#Modos de apresentação\n",
        "print (multi)\n",
        "print ('A multiplicão é:', round(multi,2))\n",
        "print (f\"A multiplicação dos números é:(multi:.2f)\")\n",
        "print (b1*3)\n",
        "b1*3\n"
      ],
      "metadata": {
        "colab": {
          "base_uri": "https://localhost:8080/"
        },
        "id": "d9g8MPH0MBT5",
        "outputId": "2846668b-2330-4c2a-a599-4041d61c4d83"
      },
      "execution_count": null,
      "outputs": [
        {
          "output_type": "stream",
          "name": "stdout",
          "text": [
            "10.5\n",
            "A multiplicão é: 10.5\n",
            "A multiplicação dos números é:(multi:.2f)\n",
            "10.5\n"
          ]
        },
        {
          "output_type": "execute_result",
          "data": {
            "text/plain": [
              "10.5"
            ]
          },
          "metadata": {},
          "execution_count": 51
        }
      ]
    },
    {
      "cell_type": "code",
      "source": [
        "# Divisão\n",
        "x1 = 10\n",
        "x2 = 5\n",
        "div = x1/x2\n",
        "\n",
        "# Modos de apresentação\n",
        "print(div)\n",
        "print('A divisão é:', div)\n",
        "print( \"Adivisão é\", round(div,2))\n",
        "print(f'A divisão dos números é {div:.2f}')\n",
        "print(x1/x2)\n",
        "x1/x2"
      ],
      "metadata": {
        "id": "msPZOI-jJ7mO",
        "outputId": "5c4d338b-06fe-49a7-f442-46e541544db6",
        "colab": {
          "base_uri": "https://localhost:8080/"
        }
      },
      "execution_count": null,
      "outputs": [
        {
          "output_type": "stream",
          "name": "stdout",
          "text": [
            "2.0\n",
            "A divisão é: 2.0\n",
            "Adivisão é 2.0\n",
            "A divisão dos números é 2.00\n",
            "2.0\n"
          ]
        },
        {
          "output_type": "execute_result",
          "data": {
            "text/plain": [
              "2.0"
            ]
          },
          "metadata": {},
          "execution_count": 53
        }
      ]
    },
    {
      "cell_type": "markdown",
      "source": [
        "# python basico"
      ],
      "metadata": {
        "id": "C5vL9tN7cXfk"
      }
    },
    {
      "cell_type": "code",
      "source": [
        "# Operadores Básicos\n",
        "\n",
        "#soma (+) ex.: some 3 com 2\n",
        "\n",
        "soma = 3 + 2\n",
        "\n",
        "#subtraçao (-) ex.: subtraia 2 de 3\n",
        "\n",
        "sub = 3 - 2\n",
        "\n",
        "#multiplicação (*) ex.: multiplique 3 x 2\n",
        "\n",
        "mult = 3 * 2\n",
        "\n",
        "#divisao (/) ex.: Divida 3 por 2\n",
        "\n",
        "div = 3 / 2\n",
        "\n",
        "#parte inteira da divisão (//) ex.: Encontre e guarde a parte inteira da divisao 3 por 2\n",
        "\n",
        "idiv = 3 // 2\n",
        "\n",
        "#resto da divisao (%) ex.: Encontre e guarde o resto da divisao de 3 por 2\n",
        "\n",
        "rdiv = 3 % 2\n",
        "\n",
        "#potenciaçao (**) ex.: Eleve 3 a 2\n",
        "\n",
        "pot = 3 ** 2"
      ],
      "metadata": {
        "id": "E_NF2f3yk48l"
      },
      "execution_count": null,
      "outputs": []
    },
    {
      "cell_type": "code",
      "source": [
        "print(soma)\n",
        "print(sub)\n",
        "print(mult)\n",
        "print(div)\n",
        "print(idiv)\n",
        "print(rdiv)\n",
        "print(pot)"
      ],
      "metadata": {
        "colab": {
          "base_uri": "https://localhost:8080/"
        },
        "id": "pbKqwW_sphmn",
        "outputId": "2c3e27d9-3ff7-483a-b23c-7b2587ecf374"
      },
      "execution_count": null,
      "outputs": [
        {
          "output_type": "stream",
          "name": "stdout",
          "text": [
            "5\n",
            "1\n",
            "6\n",
            "1.5\n",
            "1\n",
            "1\n",
            "9\n"
          ]
        }
      ]
    },
    {
      "cell_type": "code",
      "source": [
        "#Melhorando a visualizaçao dos prints f-string\n",
        "\n",
        "print(f'O resultado da soma de 3 com 2 é: {soma}')\n",
        "print(f'O resultado da subtraçao de 3 com 2 é: {sub}')\n",
        "print(f'O resultado da multiplicaçao de 3 por 2 é: {mult}')\n",
        "print(f'O resultado da divisao de 3 por 2 é: {div}')\n",
        "print(f'A parte inteira da divisao de 3 por 2 é: {idiv}')\n",
        "print(f'O resto da divisao de 3 por 2 é: {rdiv}')\n",
        "print(f'O resultado da potenciação de 3 por 2 é: {pot}')"
      ],
      "metadata": {
        "colab": {
          "base_uri": "https://localhost:8080/"
        },
        "id": "bsM2hfdyqs3k",
        "outputId": "4b11ff96-6c3b-4992-b22e-6c45ac397cfd"
      },
      "execution_count": null,
      "outputs": [
        {
          "output_type": "stream",
          "name": "stdout",
          "text": [
            "O resultado da soma de 3 com 2 é: 5\n",
            "O resultado da subtraçao de 3 com 2 é: 1\n",
            "O resultado da multiplicaçao de 3 por 2 é: 6\n",
            "O resultado da divisao de 3 por 2 é: 1.5\n",
            "A parte inteira da divisao de 3 por 2 é: 1\n",
            "O resto da divisao de 3 por 2 é: 1\n",
            "O resultado da potenciação de 3 por 2 é: 9\n"
          ]
        }
      ]
    },
    {
      "cell_type": "markdown",
      "source": [
        "Operadores de comparaçao 'Bool'"
      ],
      "metadata": {
        "id": "u6x_xH34tS5O"
      }
    },
    {
      "cell_type": "code",
      "source": [
        "# (==) verifica se dois valores são iguais (retorna True ou False)\n",
        "# Exemplo compare se 3 é igual a 3.0\n",
        "a = 3 # atribuição do valor 3 (tipo int) para a variável a\n",
        "b = 3.0 # atribuição do valor 3.0 (tipo float) para a variável b\n",
        "teste1 = a == b # Fazendo o teste de igualdade de a com b e guradando na variável teste 1\n",
        "print(teste1) # imprimindo o valor de teste1\n",
        "teste2 = 'igor' == 'Igor'\n",
        "print(teste2)"
      ],
      "metadata": {
        "colab": {
          "base_uri": "https://localhost:8080/"
        },
        "id": "Rs-0LdRntZIW",
        "outputId": "4b585def-54a0-4642-f133-39555acb2880"
      },
      "execution_count": null,
      "outputs": [
        {
          "output_type": "stream",
          "name": "stdout",
          "text": [
            "True\n",
            "False\n"
          ]
        }
      ]
    },
    {
      "cell_type": "code",
      "source": [
        "3 == 6/2"
      ],
      "metadata": {
        "colab": {
          "base_uri": "https://localhost:8080/"
        },
        "id": "2-BmB1gxuLUn",
        "outputId": "ef5ab5fa-cb1e-4bcc-f9a8-3952c2501152"
      },
      "execution_count": null,
      "outputs": [
        {
          "output_type": "execute_result",
          "data": {
            "text/plain": [
              "True"
            ]
          },
          "metadata": {},
          "execution_count": 11
        }
      ]
    },
    {
      "cell_type": "code",
      "source": [
        "3 == '3'"
      ],
      "metadata": {
        "colab": {
          "base_uri": "https://localhost:8080/"
        },
        "id": "ULD91KMLugy2",
        "outputId": "46510ea3-a9a4-423f-fb63-2145d5e0081e"
      },
      "execution_count": null,
      "outputs": [
        {
          "output_type": "execute_result",
          "data": {
            "text/plain": [
              "False"
            ]
          },
          "metadata": {},
          "execution_count": 12
        }
      ]
    },
    {
      "cell_type": "code",
      "source": [
        "# (!=) verifica se dois valores sao diferentes (retorna True or False)\n",
        "# Exemplo compare se 3 é diferente a 3.0\n",
        "\n",
        "teste3 = a != b\n",
        "teste4 = 'igor' != 'Igor'\n",
        "print(teste3)\n",
        "print(teste4)"
      ],
      "metadata": {
        "colab": {
          "base_uri": "https://localhost:8080/"
        },
        "id": "vMTRq2ycwWcv",
        "outputId": "7322dd4a-e525-4656-91fa-090e55a92957"
      },
      "execution_count": null,
      "outputs": [
        {
          "output_type": "stream",
          "name": "stdout",
          "text": [
            "False\n",
            "True\n"
          ]
        }
      ]
    },
    {
      "cell_type": "code",
      "source": [
        "# (>) verifica se um valor é maior que o outro (retorna True or False)\n",
        "# Ex.: compare se 3 é maior que 2\n",
        "\n",
        "teste5 = 3 > 2\n",
        "print(teste5)\n",
        "\n",
        "# (>=) verifica se um valor é maior ou igual a outro (retorna True or False)\n",
        "# Ex.: compare se 3 é maior ou igual a 3\n",
        "\n",
        "teste6 = 3 >= 3\n",
        "print(teste6)\n",
        "\n",
        "# (<) verifica se um valor é menor que o outro (retorna True or False)\n",
        "# Ex.: compare se 2 é menor que 2\n",
        "\n",
        "teste7 = 2 < 2\n",
        "print(teste7)\n",
        "\n",
        "# (<=) verifica se um valor é menor ou igual a outro (retorna True or False)\n",
        "# Ex.: compare se 2 é menor ou igual a 2\n",
        "\n",
        "teste8 = 2<= 2\n",
        "print(teste8)"
      ],
      "metadata": {
        "colab": {
          "base_uri": "https://localhost:8080/"
        },
        "id": "ldFvCdYR5H4o",
        "outputId": "b78b2433-a807-4ea5-9261-3ec1451f9b3b"
      },
      "execution_count": null,
      "outputs": [
        {
          "output_type": "stream",
          "name": "stdout",
          "text": [
            "True\n",
            "True\n",
            "False\n",
            "True\n"
          ]
        }
      ]
    },
    {
      "cell_type": "markdown",
      "source": [
        "Operadores de atribuição"
      ],
      "metadata": {
        "id": "v144QxjT7mF3"
      }
    },
    {
      "cell_type": "code",
      "source": [
        "# Atribuição Direta (=) RECEBA! Atribui ao lado esquerdo do sinal um valor que esta ao lado direito do sinal.\n",
        "nome = 'Igor'\n",
        "peso_kg = 64\n",
        "altura_m = 1.64\n",
        "\n",
        "# Atribuição de incremento (+=), equivale a x = x + y\n",
        "# Ex.: Crie uma variavel t que receba o numero inteiro 3 e depois acrescente o valor 1 para essa variavel.\n",
        "\n",
        "t = 3\n",
        "print(t)\n",
        "t += 1\n",
        "print(t)\n",
        "\n",
        "# Atribuição de decremento (-=), equivale a x = x - y\n",
        "# Ex.: Crie uma variavel z que receba o numero inteiro 5 e depois decrescente o valor 2 para essa variavel.\n",
        "\n",
        "z = 5\n",
        "print(z)\n",
        "z-= 2\n",
        "print(z)\n",
        "\n",
        "# Atribuição de multiplicação (*=), equivale a x = x * y\n",
        "# Ex.: Crie uma variavel j que receba o numero 5 e depois multiplique por 2\n",
        "\n",
        "j = 5\n",
        "print(j)\n",
        "j *= 2\n",
        "print(j)\n",
        "\n",
        "# Atribuição de divisao (/=), equivale a x = x / y\n",
        "# Ex.: Crie uma variavel w que receba o numero 7 e depois divida por 2\n",
        "\n",
        "w = 7\n",
        "print(w)\n",
        "w /= 2\n",
        "print(w)\n",
        "\n",
        "# Atribuição da parte inteira da divisao (//=), equivale a x = x // y\n",
        "# Crie uma variavel k que recebe o numero 7 e depois receba a parte inteira da divisao por 2\n",
        "\n",
        "k = 7\n",
        "print(k)\n",
        "k //= 2\n",
        "print(k)\n",
        "\n",
        "# Atribuição do resto da divisao (%=), equivale a x = x % y\n",
        "# Ex.: Crie uma variavel c que receba o numero 7 e depois recebe o resto da divisao por 2\n",
        "\n",
        "c = 7\n",
        "print(c)\n",
        "c %= 2\n",
        "print(c)\n",
        "\n",
        "# Atribuição de potenciação (**=), equivale a x = x ** y\n",
        "# Ex.: Crie uma variavel casamento que recebe 6 e depois o quadrado dela.\n",
        "\n",
        "casamento = 6\n",
        "print(casamento)\n",
        "casamento **= 2\n",
        "print(casamento)"
      ],
      "metadata": {
        "colab": {
          "base_uri": "https://localhost:8080/"
        },
        "id": "hAg6eEvJ7pFH",
        "outputId": "dd77b343-2b34-45c5-e746-94ca9162eee3"
      },
      "execution_count": null,
      "outputs": [
        {
          "output_type": "stream",
          "name": "stdout",
          "text": [
            "3\n",
            "4\n",
            "5\n",
            "3\n",
            "5\n",
            "10\n",
            "7\n",
            "3.5\n",
            "7\n",
            "3\n",
            "7\n",
            "1\n",
            "6\n",
            "36\n"
          ]
        }
      ]
    },
    {
      "cell_type": "markdown",
      "source": [
        "Operadores Lógicos"
      ],
      "metadata": {
        "id": "sCVox_DMdpnw"
      }
    },
    {
      "cell_type": "code",
      "source": [
        "# (and)(&) Retorna (True) somente se todas condições de uma comparação forem satisfeitas\n",
        "# Ex.:\n",
        "teste9 = 3 >= 2 and 3 != 2 and 3 <= 4 # True True True\n",
        "print(teste9)\n",
        "# (or) Retorna (True) se uma ou mais condições de uma comparação forem satisfeitas\n",
        "# Ex.:\n",
        "teste10 = 3>=2 or 3 == 2 or 3 <= 2 # True False False\n",
        "print(teste10)\n",
        "# (not) Inverte True com False ou o contrário\n",
        "# Ex.:\n",
        "teste11 = not(teste10)\n",
        "print(teste11)\n",
        "teste12 = not(teste11)\n",
        "print(teste12)"
      ],
      "metadata": {
        "colab": {
          "base_uri": "https://localhost:8080/"
        },
        "id": "RLN3dknfdsc5",
        "outputId": "97da5fa7-d756-4450-d48b-4ea0a5a51abe"
      },
      "execution_count": null,
      "outputs": [
        {
          "output_type": "stream",
          "name": "stdout",
          "text": [
            "True\n",
            "True\n",
            "False\n",
            "True\n"
          ]
        }
      ]
    },
    {
      "cell_type": "code",
      "source": [
        "# (not) Inverte verdadeiro com Falso\n",
        "# Exemplo:\n",
        "teste15 = (3 >= 2) | (3 == 2) | (3 > 4)\n",
        "teste11 = not(teste10)\n",
        "print(f'not(3 >= 2 or 3 == 2 or 3 > 4) é: {teste11}')\n",
        "teste12 = not(teste9)\n",
        "print(f'not((3 <= 2) & (3 != 2) & (3 < 4)) é: {teste12}')\n",
        "teste13 = ((not(3 <= 2))) & (not(3 == 2)) & (3 < 4) # invertendo o resultado da primeira sentença e da segunda sentença\n",
        "print(f'((not(3 <= 2))) & (not(3 == 2)) & (3 < 4) é: {teste13}')\n",
        "teste14 = not((3 >= 2) & (3 != 2) & (3 < 4)) # invertendo o resultado da comparação de todas as sentenças\n",
        "print(f'not((3 >= 2) & (3 != 2) & (3 < 4)) é: {teste14}')\n",
        "print(teste15)"
      ],
      "metadata": {
        "colab": {
          "base_uri": "https://localhost:8080/"
        },
        "id": "ClgJbeZMum8k",
        "outputId": "f5fe95a1-1535-40e3-a453-c2d213a46abe"
      },
      "execution_count": null,
      "outputs": [
        {
          "output_type": "stream",
          "name": "stdout",
          "text": [
            "not(3 >= 2 or 3 == 2 or 3 > 4) é: False\n",
            "not((3 <= 2) & (3 != 2) & (3 < 4)) é: False\n",
            "((not(3 <= 2))) & (not(3 == 2)) & (3 < 4) é: True\n",
            "not((3 >= 2) & (3 != 2) & (3 < 4)) é: False\n",
            "True\n"
          ]
        }
      ]
    },
    {
      "cell_type": "markdown",
      "source": [
        "Operadores de identidade (is, is not)"
      ],
      "metadata": {
        "id": "4gVSGAd0tKNi"
      }
    },
    {
      "cell_type": "code",
      "source": [
        "# (is) Compara se um objeto é igual a outro\n",
        "# Ex.:\n",
        "h = 3\n",
        "p = 3\n",
        "teste16 = p == h\n",
        "print(f'p == h é: {teste16}')\n",
        "teste17 = p is h\n",
        "print(f'p is h é: {teste17}')\n",
        "m = 3\n",
        "n = 3.0\n",
        "teste18 = m == n\n",
        "print(f'm == n é: {teste18}')\n",
        "teste19 = m is n\n",
        "print(f'm is n é: {teste19}')\n",
        "print(type(m))\n",
        "print(type(n))\n",
        "\n",
        "# (is not) compara se um objeto é diferente do outro em relação ao valor e o tipo\n",
        "x = 3\n",
        "y = 4\n",
        "teste20 = x != y\n",
        "print(f'x != y é: {teste20}')\n",
        "teste21 = x is not y\n",
        "print(f'x is not y é: {teste21}')\n",
        "o = 3\n",
        "s = 3.0\n",
        "teste22 = o != s\n",
        "print(f'o != s é: {teste22}')\n",
        "teste23 = o is not s\n",
        "print(f'o is not s é: {teste23}')\n",
        "print(type(o))\n",
        "print(type(s))"
      ],
      "metadata": {
        "colab": {
          "base_uri": "https://localhost:8080/"
        },
        "id": "mc_o5vmGtLZC",
        "outputId": "f42997a1-5cba-43e7-aaac-d7c428f2586d"
      },
      "execution_count": null,
      "outputs": [
        {
          "output_type": "stream",
          "name": "stdout",
          "text": [
            "p == h é: True\n",
            "p is h é: True\n",
            "m == n é: True\n",
            "m is n é: False\n",
            "<class 'int'>\n",
            "<class 'float'>\n",
            "x != y é: True\n",
            "x is not y é: True\n",
            "o != s é: False\n",
            "o is not s é: True\n",
            "<class 'int'>\n",
            "<class 'float'>\n"
          ]
        }
      ]
    },
    {
      "cell_type": "code",
      "source": [
        "# (in) Retorna verdadeiro se um caracter ou sequencia de caracteres for encontrado dentro de uma string\n",
        "# Exemplo:\n",
        "nome = 'igor honorio'\n",
        "teste24 = 'hon' in nome\n",
        "print(f'igor honorio contém hon: {teste24}')\n",
        "# (not in) Retorna verdadeiro se um caracter ou sequencia de caracteres NÃO for encontrado dentro de uma string\n",
        "teste25 = 'Igor' not in nome\n",
        "print(f'igor honorio não contém Igor: {teste25}')"
      ],
      "metadata": {
        "colab": {
          "base_uri": "https://localhost:8080/"
        },
        "id": "_W9tOYEtyFfy",
        "outputId": "6e80c2b0-aa6d-4217-d03c-4c389ab89083"
      },
      "execution_count": null,
      "outputs": [
        {
          "output_type": "stream",
          "name": "stdout",
          "text": [
            "igor honorio contém hon: True\n",
            "igor honorio não contém Igor: True\n"
          ]
        }
      ]
    },
    {
      "cell_type": "markdown",
      "source": [
        "Coletando informaçoes do usuario"
      ],
      "metadata": {
        "id": "0gqssKuS1L3D"
      }
    },
    {
      "cell_type": "code",
      "source": [
        "nome = input('Informe seu nome ')\n",
        "print(f'O nome digitado é: {nome}')\n",
        "peso = int(input('Informe seu peso em kg inteiros '))\n",
        "print(f'{nome} tem : {peso}kg')\n",
        "altura = float(input('Informe sua altura em metros '))\n",
        "print(f'{nome} tem {peso} kg e {altura} metros de altura')\n",
        "print(f'{nome}, seu IMC é: {imc:.1f}')"
      ],
      "metadata": {
        "colab": {
          "base_uri": "https://localhost:8080/"
        },
        "id": "N5tQ-b8h1Oj6",
        "outputId": "43ea16dd-bf9a-46db-ece2-9d066cba7fe9"
      },
      "execution_count": null,
      "outputs": [
        {
          "output_type": "stream",
          "name": "stdout",
          "text": [
            "Informe seu nome Igor\n",
            "O nome digitado é: Igor\n",
            "Informe seu peso em kg inteiros 64\n",
            "Igor tem : 64kg\n",
            "Informe sua altura em metros 1.64\n",
            "Igor tem 64 kg e 1.64 metros de altura\n",
            "Igor, seu IMC é: 23.8\n"
          ]
        }
      ]
    },
    {
      "cell_type": "code",
      "source": [
        "peso"
      ],
      "metadata": {
        "colab": {
          "base_uri": "https://localhost:8080/",
          "height": 35
        },
        "id": "U-OA5zIQ2HsW",
        "outputId": "4c074357-80da-4212-cf2d-2d0bdf046b94"
      },
      "execution_count": null,
      "outputs": [
        {
          "output_type": "execute_result",
          "data": {
            "text/plain": [
              "'64'"
            ],
            "application/vnd.google.colaboratory.intrinsic+json": {
              "type": "string"
            }
          },
          "metadata": {},
          "execution_count": 53
        }
      ]
    },
    {
      "cell_type": "code",
      "source": [
        "type(peso)"
      ],
      "metadata": {
        "colab": {
          "base_uri": "https://localhost:8080/"
        },
        "id": "aThBG3Hz2KSE",
        "outputId": "0158fe31-688f-47a1-81e2-027efb206c56"
      },
      "execution_count": null,
      "outputs": [
        {
          "output_type": "execute_result",
          "data": {
            "text/plain": [
              "int"
            ]
          },
          "metadata": {},
          "execution_count": 57
        }
      ]
    },
    {
      "cell_type": "code",
      "source": [
        "imc = peso / (altura ** 2)\n",
        "print(imc)"
      ],
      "metadata": {
        "colab": {
          "base_uri": "https://localhost:8080/"
        },
        "id": "H57aeINK2M8L",
        "outputId": "d3bc3c39-598a-4164-d977-2432943b52e7"
      },
      "execution_count": null,
      "outputs": [
        {
          "output_type": "stream",
          "name": "stdout",
          "text": [
            "23.795359904818564\n"
          ]
        }
      ]
    },
    {
      "cell_type": "markdown",
      "source": [
        "# python strings"
      ],
      "metadata": {
        "id": "hpBiabvgcMaJ"
      }
    },
    {
      "cell_type": "code",
      "source": [
        "# 0   1   2   3   4   5  6  7  8  9 10 11 12 13 (indice)\n",
        "#-14 -13 -12 -11 -10 -9 -8 -7 -6 -5 -4 -3 -2 -1 (índice reverso)\n",
        "# 1º 2º 3º 4º 5º 6º 7º 8º 9º 10º 11º 12º 13º 14º (ordinal{so na sua cabeça[esquizofrenico]})\n",
        "# i g o r @ g m a i l  .  c  o m\n",
        "email = 'igor@gmail.com'\n",
        "# encontrando um caracter pelo índice\n",
        "# Exemplo: qual é o quinto caracter dessa string?\n",
        "print(f'O quinto caracter dessa string é: {email[4]}')\n",
        "# Exemplo: qual é o último caracter dessa string?\n",
        "print(f'O último caracter dessa string é: {email[13]}')\n",
        "# Exemplo: Quais são os caracteres que vem depois do segundo (excluindo o segundo)\n",
        "print(f'O quinto caracter dessa string é: {email[2:]}')\n",
        "# Exemplo: Quais são todos os caracteres dessa string?\n",
        "print(f'Todos os caracteres dessa string são: {email[:]}')\n",
        "# Exemplo: Buscar e imprimir todos os caracteres até o de indice 4\n",
        "print(f'Caracteres ate o {email[4]} sao: {email[:4]}') # esquerda do : = Inclusive direita do : = Exclusive antes: conta :depois nao conta\n",
        "# Exemplo como acessar o último caracter da lista sem contar o tamaho dela (sem usar a função len())?\n",
        "print(f'O último caracter dessa string é: {email[-1]} ou {email[13]}')"
      ],
      "metadata": {
        "colab": {
          "base_uri": "https://localhost:8080/"
        },
        "id": "x-5UGJQP-GxC",
        "outputId": "923577a6-156d-4baf-abb2-9cd496fe062e"
      },
      "execution_count": null,
      "outputs": [
        {
          "output_type": "stream",
          "name": "stdout",
          "text": [
            "O quinto caracter dessa string é: @\n",
            "O último caracter dessa string é: m\n",
            "O quinto caracter dessa string é: or@gmail.com\n",
            "Todos os caracteres dessa string são: igor@gmail.com\n",
            "Caracteres ate o @ sao: igor\n",
            "O último caracter dessa string é: m ou m\n"
          ]
        }
      ]
    },
    {
      "cell_type": "code",
      "source": [
        "# função length ('só str')\n",
        "print(len(email))\n",
        "len(nome)\n",
        "# contar length sem a funçao 'len'\n",
        "# ver o ultimo pelo -1\n"
      ],
      "metadata": {
        "colab": {
          "base_uri": "https://localhost:8080/"
        },
        "id": "rPmKHEnZEowl",
        "outputId": "1a08216e-0209-4a82-d184-0d20ef22d058"
      },
      "execution_count": null,
      "outputs": [
        {
          "output_type": "stream",
          "name": "stdout",
          "text": [
            "14\n"
          ]
        },
        {
          "output_type": "execute_result",
          "data": {
            "text/plain": [
              "4"
            ]
          },
          "metadata": {},
          "execution_count": 72
        }
      ]
    },
    {
      "cell_type": "markdown",
      "source": [
        "Métodos para Strings"
      ],
      "metadata": {
        "id": "Y_3mM4LpJbG2"
      }
    },
    {
      "cell_type": "code",
      "source": [
        "# Sinal de (+) para concatenar strings\n",
        "nome = 'igor'\n",
        "sobre = 'Honorio'\n",
        "print(nome+' '+sobre)\n",
        "# Converter um número em string\n",
        "cpf = 12345678910\n",
        "cpf = str(cpf)\n",
        "print(type(cpf))\n",
        "\n",
        "qtde = len(nome)\n",
        "print(f'{nome} tem {qtde} caracteres.')"
      ],
      "metadata": {
        "colab": {
          "base_uri": "https://localhost:8080/"
        },
        "id": "Mzzael9sJd1l",
        "outputId": "0e5e8708-4787-437f-c28e-232d867e0ada"
      },
      "execution_count": null,
      "outputs": [
        {
          "output_type": "stream",
          "name": "stdout",
          "text": [
            "igor Honorio\n",
            "<class 'str'>\n",
            "igor tem 4 caracteres.\n"
          ]
        }
      ]
    },
    {
      "cell_type": "code",
      "source": [
        "altura = int(altura)\n",
        "print(type(altura))\n",
        "print(altura)"
      ],
      "metadata": {
        "colab": {
          "base_uri": "https://localhost:8080/"
        },
        "id": "q6eoXpsRLd_T",
        "outputId": "705e0812-85c5-4053-9bbc-672f580094a8"
      },
      "execution_count": null,
      "outputs": [
        {
          "output_type": "stream",
          "name": "stdout",
          "text": [
            "<class 'int'>\n",
            "1\n"
          ]
        }
      ]
    },
    {
      "cell_type": "markdown",
      "source": [
        "Metodos Especificos para Strings"
      ],
      "metadata": {
        "id": "-SlR3xK3NET7"
      }
    },
    {
      "cell_type": "code",
      "source": [
        "# Metodo para deixar a primeira letra de uma string maiúscula\n",
        "print(nome)\n",
        "nome = nome.capitalize()\n",
        "print(nome)\n",
        "nome = nome.casefold()\n",
        "print(nome)"
      ],
      "metadata": {
        "colab": {
          "base_uri": "https://localhost:8080/"
        },
        "id": "5zzhm6nANHrN",
        "outputId": "3d23f85b-9a84-4c01-c9ba-035c0a1c2c7b"
      },
      "execution_count": null,
      "outputs": [
        {
          "output_type": "stream",
          "name": "stdout",
          "text": [
            "Igor\n",
            "Igor\n",
            "igor\n"
          ]
        }
      ]
    },
    {
      "cell_type": "code",
      "source": [
        "# (count) Metodo para contar quantas vezes um caracter aparece em uma string\n",
        "material = 'paralelepipedo'\n",
        "qtde_p = material.count('p')\n",
        "print(f'{material} tem {qtde_p} Ps')"
      ],
      "metadata": {
        "colab": {
          "base_uri": "https://localhost:8080/"
        },
        "id": "V2-aPyKoRGel",
        "outputId": "4fd47529-4faa-431b-a591-ad321cfc4f09"
      },
      "execution_count": null,
      "outputs": [
        {
          "output_type": "stream",
          "name": "stdout",
          "text": [
            "paralelepipedo tem 3 Ps\n"
          ]
        }
      ]
    },
    {
      "cell_type": "code",
      "source": [
        "# (endswith) verifica se uma string termina com um caracter ou sequencia de caracter\n",
        "testend = email.endswith('@gmail.com')\n",
        "print(testend)"
      ],
      "metadata": {
        "colab": {
          "base_uri": "https://localhost:8080/"
        },
        "id": "lIDWGzBGTUCL",
        "outputId": "e565b2ec-cfeb-48fb-c7dc-57dc88617d85"
      },
      "execution_count": null,
      "outputs": [
        {
          "output_type": "stream",
          "name": "stdout",
          "text": [
            "True\n"
          ]
        }
      ]
    },
    {
      "cell_type": "code",
      "source": [
        "# (startswith) verifica se uma string começa com um caracter ou sequencia de caracter\n",
        "testein = email.startswith('i')\n",
        "print(testein)"
      ],
      "metadata": {
        "colab": {
          "base_uri": "https://localhost:8080/"
        },
        "id": "9SOokBeJUHM1",
        "outputId": "4ee686c8-cb73-4843-e858-a8b73ab80f75"
      },
      "execution_count": null,
      "outputs": [
        {
          "output_type": "stream",
          "name": "stdout",
          "text": [
            "True\n"
          ]
        }
      ]
    },
    {
      "cell_type": "code",
      "source": [
        "# (isnumeric) verifica se uma string é totalmente formada por numeros\n",
        "cpf = '06644477784'\n",
        "eai = cpf.isnumeric()\n",
        "print(eai)\n",
        "cpf = 'cpf é: 06644477784'\n",
        "eai = cpf.isnumeric()\n",
        "print(eai)"
      ],
      "metadata": {
        "colab": {
          "base_uri": "https://localhost:8080/"
        },
        "id": "DcwW1HJTVBK-",
        "outputId": "d472f99b-4b73-490f-ebf1-06ab64cb3889"
      },
      "execution_count": null,
      "outputs": [
        {
          "output_type": "stream",
          "name": "stdout",
          "text": [
            "True\n",
            "False\n"
          ]
        }
      ]
    },
    {
      "cell_type": "code",
      "source": [
        "# (isalpha) verifica se uma string é totalmente formada por letras\n",
        "cpf = '06644477784'\n",
        "eai = cpf.isalpha()\n",
        "print(eai)\n",
        "cpf2 = 'cpf é: 06644477784'\n",
        "eai2 = cpf2.isalpha()\n",
        "print(eai)\n",
        "cpf2 = 'cpfaiai'\n",
        "eai2 = cpf2.isalpha()\n",
        "print(eai2)"
      ],
      "metadata": {
        "colab": {
          "base_uri": "https://localhost:8080/"
        },
        "id": "2Lay8-vHVsm7",
        "outputId": "1d9534a7-9c7e-48a5-acac-11c303c22165"
      },
      "execution_count": null,
      "outputs": [
        {
          "output_type": "stream",
          "name": "stdout",
          "text": [
            "False\n",
            "False\n",
            "True\n"
          ]
        }
      ]
    },
    {
      "cell_type": "code",
      "source": [
        "# (isalnum) \"is it alpha-numeric?\" verfica se uma string é totalmente formada por letras e/ou numeros\n",
        "cpf = '06644477784'\n",
        "eai = cpf.isnumeric()\n",
        "print(eai)\n",
        "cpf2 = 'cpfaai'\n",
        "eai2 = cpf2.isalpha()\n",
        "print(eai2)\n",
        "cpf3 = 'cpfé06644477784'\n",
        "eai3 = cpf3.isalnum()\n",
        "print(eai3)"
      ],
      "metadata": {
        "colab": {
          "base_uri": "https://localhost:8080/"
        },
        "id": "jwS4lbmVWV7_",
        "outputId": "16ef8a01-0bf4-4553-f74c-bb34090f07e7"
      },
      "execution_count": null,
      "outputs": [
        {
          "output_type": "stream",
          "name": "stdout",
          "text": [
            "True\n",
            "True\n",
            "True\n"
          ]
        }
      ]
    },
    {
      "cell_type": "code",
      "source": [
        "# (split) separa uma string por um caracter especifico, se nao for especificado, será usado o ' ' (espaço)\n",
        "dados = input('informe os valores separados por espaços ')\n",
        "dados_sep = dados.split()\n",
        "print(dados_sep)"
      ],
      "metadata": {
        "colab": {
          "base_uri": "https://localhost:8080/"
        },
        "id": "tr9N4ASkXJY-",
        "outputId": "dba6c6ff-b9f5-4dd0-a61b-b50091ca6337"
      },
      "execution_count": null,
      "outputs": [
        {
          "output_type": "stream",
          "name": "stdout",
          "text": [
            "informe os valores separados por espaços 1 2 3 4 5\n",
            "['1', '2', '3', '4', '5']\n"
          ]
        }
      ]
    },
    {
      "cell_type": "code",
      "source": [
        "# (strip) tira um caracter especifico de uma string, se nao for especificado, será usado o ' ' (espaço)\n",
        "autor = 'Igor '\n",
        "print(autor)\n",
        "print(len(autor))\n",
        "autor = autor.strip()\n",
        "print(autor)\n",
        "print(len(autor))"
      ],
      "metadata": {
        "colab": {
          "base_uri": "https://localhost:8080/"
        },
        "id": "bCw_77L5YlKh",
        "outputId": "c6b2eab6-c967-404a-ef28-c71cceb67e1e"
      },
      "execution_count": null,
      "outputs": [
        {
          "output_type": "stream",
          "name": "stdout",
          "text": [
            "Igor \n",
            "5\n",
            "Igor\n",
            "4\n"
          ]
        }
      ]
    },
    {
      "cell_type": "code",
      "source": [
        "# (replace) substitui um caracter por outro\n",
        "preco = 'R$10.50'\n",
        "print(preco)\n",
        "preco = preco.replace('.',',')\n",
        "print(preco)"
      ],
      "metadata": {
        "colab": {
          "base_uri": "https://localhost:8080/"
        },
        "id": "rgjF8CVAZd-O",
        "outputId": "d5df4d70-cb5a-4a5f-a274-f660f878e1a8"
      },
      "execution_count": null,
      "outputs": [
        {
          "output_type": "stream",
          "name": "stdout",
          "text": [
            "R$10.50\n",
            "R$10,50\n"
          ]
        }
      ]
    },
    {
      "cell_type": "code",
      "source": [
        "# (title) coloca a primeira letra das palavras em maiusculo\n",
        "nomezz = 'igor honorio de medeiros'\n",
        "print(nomezz)\n",
        "nomezz = nomezz.title()\n",
        "print(nomezz)"
      ],
      "metadata": {
        "colab": {
          "base_uri": "https://localhost:8080/"
        },
        "id": "ziegjvQiaBoM",
        "outputId": "9ec5f0d3-b19f-4b91-c2b7-03d85c6d435a"
      },
      "execution_count": null,
      "outputs": [
        {
          "output_type": "stream",
          "name": "stdout",
          "text": [
            "igor honorio de medeiros\n",
            "Igor Honorio De Medeiros\n"
          ]
        }
      ]
    },
    {
      "cell_type": "code",
      "source": [
        "# (upper) coloca todas letras de uma string em maiusculo\n",
        "nomexy = 'igor honorio de medeiros'\n",
        "print(nomexy)\n",
        "nomexy = nomexy.upper()\n",
        "print(nomexy)"
      ],
      "metadata": {
        "colab": {
          "base_uri": "https://localhost:8080/"
        },
        "id": "a8fbSMi7apKl",
        "outputId": "e0faa37b-64ba-4aeb-da07-432364035826"
      },
      "execution_count": null,
      "outputs": [
        {
          "output_type": "stream",
          "name": "stdout",
          "text": [
            "igor honorio de medeiros\n",
            "IGOR HONORIO DE MEDEIROS\n"
          ]
        }
      ]
    },
    {
      "cell_type": "markdown",
      "source": [
        "# Estrutura de condição: if, elif, else"
      ],
      "metadata": {
        "id": "CnyItjWJDnTa"
      }
    },
    {
      "cell_type": "markdown",
      "source": [
        "Instrução 'if': É usada para executar um bloco de código se uma determinada condição for verdadeira."
      ],
      "metadata": {
        "id": "gmkoEwK0DO8z"
      }
    },
    {
      "cell_type": "code",
      "execution_count": null,
      "metadata": {
        "id": "JJhmue03DKHX"
      },
      "outputs": [],
      "source": [
        "'''\n",
        "if condiçao:\n",
        "      # bloco de código a ser executado se a condição for verdadeira\n",
        "'''"
      ]
    },
    {
      "cell_type": "code",
      "source": [
        "idade = 19\n",
        "if idade >= 18:\n",
        "      print('Você é maior de idade')"
      ],
      "metadata": {
        "colab": {
          "base_uri": "https://localhost:8080/"
        },
        "id": "LgUGHw9PEKfJ",
        "outputId": "793907cd-0ab3-4fd4-95d3-204e74028ef3"
      },
      "execution_count": null,
      "outputs": [
        {
          "output_type": "stream",
          "name": "stdout",
          "text": [
            "Você é maior de idade\n"
          ]
        }
      ]
    },
    {
      "cell_type": "code",
      "source": [
        "idade = 18\n",
        "if idade >= 18:\n",
        "     print('Você e maior de idade')"
      ],
      "metadata": {
        "colab": {
          "base_uri": "https://localhost:8080/"
        },
        "id": "kfLZtYKFEWoR",
        "outputId": "2941d280-d314-48d8-9ace-d720341cb728"
      },
      "execution_count": null,
      "outputs": [
        {
          "output_type": "stream",
          "name": "stdout",
          "text": [
            "Você e maior de idade\n"
          ]
        }
      ]
    },
    {
      "cell_type": "code",
      "source": [
        "idade = 17\n",
        "if idade >= 18:\n",
        "      print('Você é maior de idade')"
      ],
      "metadata": {
        "id": "goZQrprgEiBR"
      },
      "execution_count": null,
      "outputs": []
    },
    {
      "cell_type": "markdown",
      "source": [
        "Intrução 'else': É usada em conjunto com a condição 'if' e especifica um bloco de codigo a ser executado se a condiçao do 'if' nao for verdadeira."
      ],
      "metadata": {
        "id": "plVhsOquE8VS"
      }
    },
    {
      "cell_type": "code",
      "source": [
        "'''\n",
        "if condiçao:\n",
        "      # bloco de código a ser executado se a condição for verdadeira\n",
        "      else condiçao:\n",
        "      # bloco de código a ser executado se a condição nao for verdadeira\n",
        "'''"
      ],
      "metadata": {
        "id": "CRTr6QpxHKoI"
      },
      "execution_count": null,
      "outputs": []
    },
    {
      "cell_type": "code",
      "source": [
        "idade = int(input('Digite sua idade:'))\n",
        "\n",
        "if idade >= 18:\n",
        "  print('Você é maior de idade.')\n",
        "else:\n",
        "    print('Você é menor de idade.')"
      ],
      "metadata": {
        "colab": {
          "base_uri": "https://localhost:8080/"
        },
        "id": "jwppdLglHXJA",
        "outputId": "47021225-ccdd-4938-8b1d-0df776c37b67"
      },
      "execution_count": null,
      "outputs": [
        {
          "output_type": "stream",
          "name": "stdout",
          "text": [
            "Digite sua idade:26\n",
            "Você é maior de idade.\n"
          ]
        }
      ]
    },
    {
      "cell_type": "markdown",
      "source": [
        "Intrução 'elif': É uma abreviação de \"else if\" e permite testar múltiplas condições em sequência. Ela é usada quando há mais de duas possibilidades a serem consideradas."
      ],
      "metadata": {
        "id": "rSSasdewIOS6"
      }
    },
    {
      "cell_type": "code",
      "source": [
        "'''\n",
        "if condiçao1:\n",
        "      # bloco de código a ser executado se a condição1 for verdadeira\n",
        "elif condiçao2:\n",
        "      # bloco de código a ser executado se a condiçao2 for verdadeira\n",
        "else condiçao:\n",
        "      # bloco de código a ser executado se a condição nao for verdadeira\n",
        "'''"
      ],
      "metadata": {
        "id": "woylx4B8I4_K"
      },
      "execution_count": null,
      "outputs": []
    },
    {
      "cell_type": "code",
      "source": [
        "nota = int(input('Digite sua nota:'))\n",
        "\n",
        "if nota >= 90:\n",
        "  print('Sua nota é A.')\n",
        "elif nota >= 80:\n",
        "  print('Sua nota é B.')\n",
        "elif nota >= 70:\n",
        "  print('Sua nota é C.')\n",
        "else:\n",
        "    print('Sua nota é D.')"
      ],
      "metadata": {
        "colab": {
          "base_uri": "https://localhost:8080/"
        },
        "id": "k8nCNE3GJOrQ",
        "outputId": "4b7dbb0b-9522-4cc4-e2a8-380e61958361"
      },
      "execution_count": null,
      "outputs": [
        {
          "output_type": "stream",
          "name": "stdout",
          "text": [
            "Digite sua nota:66\n",
            "Sua nota é D.\n"
          ]
        }
      ]
    },
    {
      "cell_type": "markdown",
      "source": [
        "# Exemplo:"
      ],
      "metadata": {
        "id": "vJtBMUjKKDq5"
      }
    },
    {
      "cell_type": "markdown",
      "source": [
        "1. Solicite ao usuario que digite um numero.\n",
        "2. Armazene o numero digitado em uma variavel chamada 'numero'\n",
        "3. Verifique se o numero é igual a zero. Se sim, exiba a mensagem \"O número digitado é zero\"\n",
        "4. Caso contrário, verifique se o numero é maior que zero. Se sim, exiba a mensagem \"O número digitado é positivo\"\n",
        "5. Se nenhuma das condiçoes anteriores forem atendidas, significa que o numero é negativo, logo, exiba a mensagem \"O número digitado é negativo\"\n",
        "6. Encerre o programa."
      ],
      "metadata": {
        "id": "n4T_a8iTO6Ra"
      }
    },
    {
      "cell_type": "code",
      "source": [
        "numero = float(input(\"Digite um número: \"))\n",
        "\n",
        "if numero == 0:\n",
        "    print(\"O número digitado é zero.\")\n",
        "elif numero > 0:\n",
        "    print(\"O número digitado é positivo.\")\n",
        "else:\n",
        "    print(\"O número digitado é negativo.\")"
      ],
      "metadata": {
        "colab": {
          "base_uri": "https://localhost:8080/"
        },
        "id": "E_jTLVyoKFqJ",
        "outputId": "53b80eb1-d206-4fc9-cb17-e95d14644179"
      },
      "execution_count": null,
      "outputs": [
        {
          "output_type": "stream",
          "name": "stdout",
          "text": [
            "Digite um número: 0\n",
            "O número digitado é zero.\n"
          ]
        }
      ]
    },
    {
      "cell_type": "markdown",
      "source": [
        "# Exercícios:"
      ],
      "metadata": {
        "id": "OEteaRf-TaFL"
      }
    },
    {
      "cell_type": "code",
      "source": [
        "# 1. Faça um algoritmo que leia um número inteiro e diga se ele é maior, menor ou igual a 10;\n",
        "numero = int(input('Digite um número inteiro:'))\n",
        "\n",
        "if numero > 10:\n",
        "  print('Número maior que 10.')\n",
        "elif numero == 10:\n",
        "  print('Número igual a 10.')\n",
        "else:\n",
        "  print('Número menor que 10.')"
      ],
      "metadata": {
        "id": "VmbkFJUqThwz"
      },
      "execution_count": null,
      "outputs": []
    },
    {
      "cell_type": "code",
      "source": [
        "# 2. Faça um algoritmo que leia dois números inteiros e apresente na tela o maior deles ou se eles são iguais;\n",
        "numero = int(input('Digite um número inteiro:'))\n",
        "numero2 = int(input('Digite outro número inteiro:'))\n",
        "\n",
        "if numero > numero2:\n",
        "  print(numero)\n",
        "elif numero2 > numero:\n",
        "  print(numero2)\n",
        "else:\n",
        "  print('Os dois números são iguais.')"
      ],
      "metadata": {
        "id": "OJahyyxFUjdx"
      },
      "execution_count": null,
      "outputs": []
    },
    {
      "cell_type": "code",
      "source": [
        "# 3. Crie um algoritmo que leia um número e diga se ele está no intervalo fechado entre 25 e 200;\n",
        "numero = float(input('Digite um número:'))\n",
        "\n",
        "if numero >= 25 and numero <= 200:\n",
        "  print('O número está no intervalo entre 25 e 200.')\n",
        "else:\n",
        "  print('O número não está no intervalo entre 25 e 200')"
      ],
      "metadata": {
        "id": "qHUpdz8ZVp9y"
      },
      "execution_count": null,
      "outputs": []
    },
    {
      "cell_type": "code",
      "source": [
        "# 4. Crie um algoritmo que leia um número e informe na tela se o mesmo é positivo. Caso seja, mostre o número na tela;\n",
        "numero = float(input('Digite um número:'))\n",
        "\n",
        "if numero > 0:\n",
        "  print(f'{numero} é um número positivo')\n",
        "else: pass #comando para não encerrar o código"
      ],
      "metadata": {
        "id": "YOoNNdwdYW2a"
      },
      "execution_count": null,
      "outputs": []
    },
    {
      "cell_type": "code",
      "source": [
        "# 5. Crie um algoritmo que leia um número e informe se ele é divisível por 7.\n",
        "numero = float(input('Digite um número:'))\n",
        "rdiv = (numero % 7)\n",
        "if rdiv == 0:\n",
        "  print('O número é divisível por 7.')\n",
        "else:\n",
        "    print('O número não é divisível por 7')"
      ],
      "metadata": {
        "id": "0TOKFfA5YyYq"
      },
      "execution_count": null,
      "outputs": []
    },
    {
      "cell_type": "code",
      "source": [
        "# 6. Crie um algoritmo que leia um número e diga se ele é par ou ímpar.\n",
        "numero = int(input('Digite um número:'))\n",
        "if (numero % 2) == 0:\n",
        "  print('O número é Par.')\n",
        "else:\n",
        "  print('O número é Impar.')"
      ],
      "metadata": {
        "id": "YVGYmbSwaHya"
      },
      "execution_count": null,
      "outputs": []
    },
    {
      "cell_type": "code",
      "source": [
        "# Ex6b\n",
        "n6 = int(input('Informe um número: '))\n",
        "if n6 % 2 == 0 and n6 != 0:\n",
        "  print(f'{n6} é um número par')\n",
        "elif n6 % 2 != 0 and n6 != 0:\n",
        "  print(f'{n6} é um número ímpar')\n",
        "else:\n",
        "  print(f'{n6} é zero e')"
      ],
      "metadata": {
        "id": "3s2twCVYUISb"
      },
      "execution_count": null,
      "outputs": []
    },
    {
      "cell_type": "code",
      "source": [
        "# 7. Escreva um programa em Python que solicite ao usuário que digite uma letra.\n",
        "# Em seguida, verifique se a letra digitada é uma vogal ou não.\n",
        "letra = str(input('Digite uma letra:'))\n",
        "if letra in ('aeiouAEIOU'):\n",
        "  print('A letra é uma vogal.')\n",
        "else:\n",
        "  print('A letra não é uma vogal.')"
      ],
      "metadata": {
        "id": "fTYIC7uSbR5z"
      },
      "execution_count": null,
      "outputs": []
    },
    {
      "cell_type": "code",
      "source": [
        "# 8. Escreva um programa que solicite ao usuário três notas de um aluno e calcule a média.\n",
        "# Em seguida, exiba a média e uma mensagem informando se o aluno foi aprovado (média maior ou igual a 7) ou reprovado.\n",
        "nota1 = float(input('Insira sua primeira nota:'))\n",
        "nota2 = float(input('Insira sua segunda nota:'))\n",
        "nota3 = float(input('Insira sua terceira nota:'))\n",
        "media = (nota1 + nota2 + nota3) / 3\n",
        "\n",
        "if media >= 7:\n",
        "  print(f'{media:.2f}, você foi aprovado.')\n",
        "else:\n",
        "  print(f'{media:.2f}, você foi reprovado.')"
      ],
      "metadata": {
        "id": "pBJrObvZb4NK"
      },
      "execution_count": null,
      "outputs": []
    },
    {
      "cell_type": "code",
      "source": [
        "# 9. Escreva um programa que solicite ao usuário os comprimentos dos três lados de um triângulo.\n",
        "# Em seguida, exiba uma mensagem informando se o triângulo é equilátero (todos os lados iguais),\n",
        "# isósceles (dois lados iguais) ou escaleno (todos os lados diferentes).\n",
        "lado = float(input('Digite um dos tres comprimentos dos lados de um triângulo:'))\n",
        "lado1 = float(input('Agora, digite mais um dos tres comprimentos dos lados de um triângulo:'))\n",
        "lado2 = float(input('Para finalizar, digite o ultimo dos tres comprimentos dos lados de um triângulo:'))\n",
        "\n",
        "if lado == lado1 and lado1 == lado2:\n",
        "  print('Este triângulo é equilátero.')\n",
        "elif lado == lado1 or lado == lado2 or lado1 == lado2:\n",
        "  print('Este triângulo é isósceles.')\n",
        "else:\n",
        "  print('Este triângulo é escaleno.')"
      ],
      "metadata": {
        "id": "0245ry7Odk2K"
      },
      "execution_count": null,
      "outputs": []
    },
    {
      "cell_type": "code",
      "source": [
        "# Ex 9 (com verificação do triangulo)\n",
        "l1 = float(input('Informe o comprimento do 1º lado: '))\n",
        "l2 = float(input('Informe o comprimento do 2º lado: '))\n",
        "l3 = float(input('Informe o comprimento do 3º lado: '))\n",
        "\n",
        "if l1 < (l2 + l3) and l2 < (l1 + l3) and l3 < (l2 + l1):\n",
        "  tri = True\n",
        "else:\n",
        "  tri = False\n",
        "\n",
        "if tri == True:\n",
        "  print('A medidas informadas formam um triangulo')\n",
        "else:\n",
        "  print('''A medidas informadas não formam um triangulo, por favor digite\n",
        "  medidas que formem um triângulo, lembrando que para que exista um triângulo\n",
        "  a medida de um lado qualquer deve ser menor que a soma das medidas dos outros\n",
        "  dois lados informado''')\n",
        "\n",
        "# Código para caso as medidas formem um triangulo,faça sua classificação\n",
        "if tri == True:\n",
        "  if l1 == l2 and l2 == l3:\n",
        "    print('O triângulo é equilátero, tem três lados iguais.')\n",
        "\n",
        "  elif (l1 == l2 or l1 == l3 or l2 == l3): # and (l1 != l2 or l1 != l3 or l2 != l3): essa condição seria necessária caso não houvesse outra condicação antes dela que pegasse o caso de todos os lados iguais\n",
        "    print('O triângulo é isósceles, tem dois lados iguais..')\n",
        "\n",
        "  else:\n",
        "    print('O triângulo é escaleno todos os lados diferentes.')\n",
        "else:\n",
        "  pass"
      ],
      "metadata": {
        "id": "zJiKwfnxa5Wo"
      },
      "execution_count": null,
      "outputs": []
    },
    {
      "cell_type": "code",
      "source": [
        "# 10.  Escreva um programa que solicite ao usuário sua idade e exiba uma mensagem informando\n",
        "# em qual faixa etária ele se encontra: criança (0-12 anos), adolescente (13-17 anos),\n",
        "# adulto (18-59 anos) ou idoso (60 anos ou mais).\n",
        "idade = int(input('Digite sua idade:'))\n",
        "\n",
        "if idade >= 0 and idade <= 12:\n",
        "  print('Sua faixa etária é: Criança.')\n",
        "elif idade >= 13 and idade <= 17:\n",
        "  print('Sua faixa etária é: Adolescente.')\n",
        "elif idade >= 18 and idade <= 59:\n",
        "  print('Sua faixa etária é: Adulto.')\n",
        "else:\n",
        "  print('Sua faixa etária é: Idoso.')"
      ],
      "metadata": {
        "id": "qGVNUY4Zfp6K"
      },
      "execution_count": null,
      "outputs": []
    },
    {
      "cell_type": "markdown",
      "source": [
        "# *Exercicios 2*"
      ],
      "metadata": {
        "id": "ouIGx0XqjrtK"
      }
    },
    {
      "cell_type": "code",
      "execution_count": null,
      "metadata": {
        "id": "daS3ZGU81GwD"
      },
      "outputs": [],
      "source": [
        "# Ex1: primeira forma\n",
        "n = int(input('Digite um número inteiro: ')) #recebendo valor do usuário e o transformando em int\n",
        "if (n == 10): # (se n for igual a 10 faça alguma coisa)\n",
        "  print(f'{n} é igual a 10')\n",
        "elif n > 10:\n",
        "  print(f'{n} é maior que 10')\n",
        "else:\n",
        "  print(f'{n} é menor que 10')"
      ]
    },
    {
      "cell_type": "code",
      "source": [
        "# Ex2\n",
        "n1 = int(input('Informe um número inteiro: '))\n",
        "n2 = int(input('Informe outro número inteiro: '))\n",
        "\n",
        "if n1 > n2:\n",
        "  print(f'{n1} é o maior número informado')\n",
        "elif n1 < n2:\n",
        "  print(f'{n2} é o maior número informado')\n",
        "else:\n",
        "  print(f'{n1} é igual a {n2}')"
      ],
      "metadata": {
        "id": "jpJsFCT_DjcV"
      },
      "execution_count": null,
      "outputs": []
    },
    {
      "cell_type": "code",
      "source": [
        "# Ex 3\n",
        "n3 = float(input('Digite um número real: ')) #recebendo valor do usuário e o transformando em float\n",
        "if n3 >= 25 and n3 <= 200:\n",
        "  print(f'{n3} está dentro do intervalo fechado entre 25 e 200')\n",
        "else:\n",
        "  print(f'{n3} não está dentro do intervalo fechado entre 25 e 200')"
      ],
      "metadata": {
        "id": "cF4KmVCIH3cR"
      },
      "execution_count": null,
      "outputs": []
    },
    {
      "cell_type": "code",
      "source": [
        "# Ex4\n",
        "n4 = float(input('Digite um número real: ')) #recebendo valor do usuário e o transformando em float\n",
        "if n4 > 0:\n",
        "  print(f'{n4} é um número positivo')\n",
        "else:\n",
        "  pass # comando que se aplica para não ecerrar o código e sim passar para a próxima linha de código"
      ],
      "metadata": {
        "colab": {
          "base_uri": "https://localhost:8080/"
        },
        "id": "r9SYveQVK1oO",
        "outputId": "c0de45de-3959-49c6-fc6a-0b82572f66db"
      },
      "execution_count": null,
      "outputs": [
        {
          "output_type": "stream",
          "name": "stdout",
          "text": [
            "Digite um número real: 10\n",
            "10.0 é um número positivo\n"
          ]
        }
      ]
    },
    {
      "cell_type": "code",
      "source": [
        "# Off Topic\n",
        "n4 = float(input('Digite um número real: ')) #recebendo valor do usuário e o transformando em float\n",
        "if n4 > 0:\n",
        "  print(f'{n4} é um número positivo')\n",
        "elif n4 <0:\n",
        "    print(f'{n4} é um número negativo')\n",
        "else:\n",
        "  print(f'{n4} é um número neutro')"
      ],
      "metadata": {
        "colab": {
          "base_uri": "https://localhost:8080/"
        },
        "id": "sUE-dn8jORVF",
        "outputId": "a298972d-2d8a-457f-c0f4-833304d9b2d3"
      },
      "execution_count": null,
      "outputs": [
        {
          "output_type": "stream",
          "name": "stdout",
          "text": [
            "Digite um número real: -1\n",
            "-1.0 é um número negativo\n"
          ]
        }
      ]
    },
    {
      "cell_type": "code",
      "source": [
        "# Ex 5\n",
        "n5 = float(input('Informe um número: '))\n",
        "if n5 % 7 == 0:\n",
        "  print(f'{n5} é um número divisível por 7')\n",
        "else:\n",
        "  pass"
      ],
      "metadata": {
        "colab": {
          "base_uri": "https://localhost:8080/"
        },
        "id": "IlyMAgUhPIhO",
        "outputId": "09d4c0d3-9672-4f17-ddd3-27e9e2fc99c0"
      },
      "execution_count": null,
      "outputs": [
        {
          "output_type": "stream",
          "name": "stdout",
          "text": [
            "Informe um número: 7\n",
            "7.0 é um número divisível por 7\n"
          ]
        }
      ]
    },
    {
      "cell_type": "code",
      "source": [
        "# Ex6\n",
        "n6 = int(input('Informe um número: '))\n",
        "if n6 % 2 == 0:\n",
        "  print('O número digitado é par.')\n",
        "else:\n",
        "  print('O número digitado é ímpar.')"
      ],
      "metadata": {
        "colab": {
          "base_uri": "https://localhost:8080/"
        },
        "id": "2yx7jKHtT4K9",
        "outputId": "fb1901a7-2157-451e-c2b3-c30e3749abd0"
      },
      "execution_count": null,
      "outputs": [
        {
          "output_type": "stream",
          "name": "stdout",
          "text": [
            "Informe um número: 0\n",
            "O número digitado é par.\n"
          ]
        }
      ]
    },
    {
      "cell_type": "code",
      "source": [
        "# Ex6b\n",
        "n6 = int(input('Informe um número: '))\n",
        "if n6 % 2 == 0 and n6 != 0:\n",
        "  print(f'{n6} é um número par')\n",
        "elif n6 % 2 != 0 and n6 != 0:\n",
        "  print(f'{n6} é um número ímpar')\n",
        "else:\n",
        "  print(f'{n6} é zero e o professor viajou na maionese e não quer assumir como par e também é o número de casamentos futuros do professor')"
      ],
      "metadata": {
        "colab": {
          "base_uri": "https://localhost:8080/"
        },
        "outputId": "0d3bb5a1-a9f2-4444-936a-8a3ec53f4a57",
        "id": "xZSgB15tjz_n"
      },
      "execution_count": null,
      "outputs": [
        {
          "output_type": "stream",
          "name": "stdout",
          "text": [
            "Informe um número: 0\n",
            "0 é zero e o professor viajou na maionese e não quer assumir como par e também é o número de casamentos futuros do professor\n"
          ]
        }
      ]
    },
    {
      "cell_type": "code",
      "source": [
        "# Ex7\n",
        "l = input('Digite uma letra: ')\n",
        "l = l.casefold()\n",
        "\n",
        "if l == 'a' or l == 'e' or l == 'i' or l == 'o' or l == 'u':\n",
        "  print(f'{l} é uma vogal')\n",
        "else:\n",
        "  print(f'{l} não é uma vogal')"
      ],
      "metadata": {
        "colab": {
          "base_uri": "https://localhost:8080/"
        },
        "id": "Dtu4GSI2XbGJ",
        "outputId": "a209a27b-8dca-462d-fb94-536c6059d5f6"
      },
      "execution_count": null,
      "outputs": [
        {
          "output_type": "stream",
          "name": "stdout",
          "text": [
            "Digite uma letra: U\n",
            "u é uma vogal\n"
          ]
        }
      ]
    },
    {
      "cell_type": "code",
      "source": [
        "# Ex 8\n",
        "nota1 = float(input('Informe a primeira nota: '))\n",
        "nota2 = float(input('Informe a segunda nota: '))\n",
        "nota3 = float(input('Informe a terceira nota: '))\n",
        "media = (nota1 + nota2 + nota3) / 3\n",
        "if media >= 7:\n",
        "  print(f'Aprovado com média {media:.2f}')\n",
        "else:\n",
        "  print(f'Reprovado com média {media:.2f}')"
      ],
      "metadata": {
        "colab": {
          "base_uri": "https://localhost:8080/"
        },
        "id": "YRgVg-ApZ67U",
        "outputId": "0aba233b-4b37-4f3b-eea6-5c3bc85aacf9"
      },
      "execution_count": null,
      "outputs": [
        {
          "output_type": "stream",
          "name": "stdout",
          "text": [
            "Informe a primeira nota: 6\n",
            "Informe a segunda nota: 5\n",
            "Informe a terceira nota: 4\n",
            "Reprovado com média 5.00\n"
          ]
        }
      ]
    },
    {
      "cell_type": "code",
      "source": [
        "# Ex 9\n",
        "l1 = float(input('Informe o comprimento do 1º lado: '))\n",
        "l2 = float(input('Informe o comprimento do 2º lado: '))\n",
        "l3 = float(input('Informe o comprimento do 3º lado: '))\n",
        "\n",
        "if l1 < (l2 + l3) and l2 < (l1 + l3) and l3 < (l2 + l1):\n",
        "  tri = True\n",
        "else:\n",
        "  tri = False\n",
        "\n",
        "if tri == True:\n",
        "  print('A medidas informadas formam um triangulo')\n",
        "else:\n",
        "  print('''A medidas informadas não formam um triangulo, por favor digite\n",
        "  medidas que formem um triângulo, lembrando que para que exista um triângulo\n",
        "  a medida de um lado qualquer deve ser menor que a soma das medidas dos outros\n",
        "  dois lados informado''')\n",
        "\n",
        "# Código para caso as medidas formem um triangulo,faça sua classificação\n",
        "if tri == True:\n",
        "  if l1 == l2 and l2 == l3:\n",
        "    print('O triângulo é equilátero, tem três lados iguais.')\n",
        "\n",
        "  elif (l1 == l2 or l1 == l3 or l2 == l3): # and (l1 != l2 or l1 != l3 or l2 != l3): essa condição seria necessária caso não houvesse outra condicação antes dela que pegasse o caso de todos os lados iguais\n",
        "    print('O triângulo é isósceles, tem dois lados iguais..')\n",
        "\n",
        "  else:\n",
        "    print('O triângulo é escaleno todos os lados diferentes.')\n",
        "else:\n",
        "  pass"
      ],
      "metadata": {
        "colab": {
          "base_uri": "https://localhost:8080/"
        },
        "outputId": "a88c0d58-825e-441f-9296-e026cdd3f3b2",
        "id": "kgav1Kc6jz_o"
      },
      "execution_count": null,
      "outputs": [
        {
          "output_type": "stream",
          "name": "stdout",
          "text": [
            "Informe o comprimento do 1º lado: 3\n",
            "Informe o comprimento do 2º lado: 4\n",
            "Informe o comprimento do 3º lado: 5\n",
            "A medidas informadas formam um triangulo\n",
            "O triângulo é escaleno todos os lados diferentes.\n"
          ]
        }
      ]
    },
    {
      "cell_type": "code",
      "source": [
        "# Ex 10\n",
        "age = int(input('Informe a sua idade em anos inteiros: '))\n",
        "if 0 <= age <= 12: #( se 0 for menor ou igual a age e age for menor ou igual a 12)\n",
        "  print('criança')\n",
        "elif 13 <= age <= 17:\n",
        "  print('adolescente')\n",
        "elif 18 <= age <= 59:\n",
        "  print('adulto')\n",
        "else:\n",
        "  print('idoso')"
      ],
      "metadata": {
        "colab": {
          "base_uri": "https://localhost:8080/"
        },
        "id": "h0gYUeVO2Wq9",
        "outputId": "78aa4751-81c7-4ad0-fbf5-473898770405"
      },
      "execution_count": null,
      "outputs": [
        {
          "output_type": "stream",
          "name": "stdout",
          "text": [
            "Informe a sua idade em anos inteiros: 63\n",
            "idoso\n"
          ]
        }
      ]
    },
    {
      "cell_type": "code",
      "source": [
        "# EX 10\n",
        "age = int(input('Informe a sua idade em anos inteiros: '))\n",
        "if age <= 12: #( se 0 for menor ou igual a age e age for menor ou igual a 12)\n",
        "  print('criança')\n",
        "elif age <= 17:\n",
        "  print('adolescente')\n",
        "elif age <= 59:\n",
        "  print('adulto')\n",
        "else:\n",
        "  print('idoso')"
      ],
      "metadata": {
        "colab": {
          "base_uri": "https://localhost:8080/"
        },
        "id": "VaaB5u0X4xsn",
        "outputId": "dc6d99c5-0e6c-4b93-aff0-b8f6295ddcb7"
      },
      "execution_count": null,
      "outputs": [
        {
          "output_type": "stream",
          "name": "stdout",
          "text": [
            "Informe a sua idade em anos inteiros: 63\n",
            "idoso\n"
          ]
        }
      ]
    },
    {
      "cell_type": "markdown",
      "source": [
        "Estruturas de dados em Python - parte 1 Listas"
      ],
      "metadata": {
        "id": "csnG2gPr5ulm"
      }
    },
    {
      "cell_type": "code",
      "source": [
        "# Lista é uma estrutura que pode armazenar diversos valores sobre um determinado atributo\n",
        "lista_vazia = []\n",
        "noivo = ['Zé','Mané','Ana','Fran','João','Franz']\n",
        "print(f'Convidados do noivo - {noivo}')\n",
        "idades = [41, 47, 46, 28, 17, 50]\n",
        "print(f'Idades dos convidados do noivo {idades}')\n",
        "massas = [86, 74, 52, 47, 90, 110]\n",
        "print(f'Massas dos convidados do noivo {massas}')\n",
        "alturas = [1.68, 1.74, 1.65, 1.65, 1.80, 1.97]\n",
        "print(f'Alturas (em metros) dos convidados do noivo {alturas}')"
      ],
      "metadata": {
        "colab": {
          "base_uri": "https://localhost:8080/"
        },
        "id": "m2rMAiDg5uCO",
        "outputId": "80b0a786-28ee-4071-f8c4-ee1c43f27d2b"
      },
      "execution_count": null,
      "outputs": [
        {
          "output_type": "stream",
          "name": "stdout",
          "text": [
            "Convidados do noivo - ['Zé', 'Mané', 'Ana', 'Fran', 'João', 'Franz']\n",
            "Idades dos convidados do noivo [41, 47, 46, 28, 17, 50]\n",
            "Massas dos convidados do noivo [86, 74, 52, 47, 90, 110]\n",
            "Alturas (em metros) dos convidados do noivo [1.68, 1.74, 1.65, 1.65, 1.8, 1.97]\n"
          ]
        }
      ]
    },
    {
      "cell_type": "code",
      "source": [
        "print(f'Idades dos convidados do noivo {idades}')"
      ],
      "metadata": {
        "colab": {
          "base_uri": "https://localhost:8080/"
        },
        "id": "jA0QPqn_Gzh3",
        "outputId": "c5a9e0d0-de45-4558-aeac-76ea438a3f0a"
      },
      "execution_count": null,
      "outputs": [
        {
          "output_type": "stream",
          "name": "stdout",
          "text": [
            "Idades dos convidados do noivo [41, 47, 46, 28, 17, 50]\n"
          ]
        }
      ]
    },
    {
      "cell_type": "code",
      "source": [
        "# Acessando um elemento específico da lista a partir do seu índice\n",
        "print(f'A convidada de honra é {noivo[3]}')\n",
        "# Criar uma sublista com apenas os os três primeiros elementos da lita noivo\n",
        "sublista = noivo[:3]\n",
        "print(sublista)\n",
        "p_u = [noivo[0], noivo[-1]]\n",
        "print(f'O primeiro convidado é {p_u[0]} e o último convidado é {p_u[-1]}')\n",
        "print(f'{noivo}')"
      ],
      "metadata": {
        "colab": {
          "base_uri": "https://localhost:8080/"
        },
        "id": "OSOe7qYgFS0R",
        "outputId": "f7fb3f4d-481d-4515-8918-a2685a2a9366"
      },
      "execution_count": null,
      "outputs": [
        {
          "output_type": "stream",
          "name": "stdout",
          "text": [
            "A convidada de honra é Fran\n",
            "['Zé', 'Mané', 'Ana']\n",
            "O primeiro convidado é Zé e o último convidado é Franz\n",
            "['Zé', 'Mané', 'Ana', 'Fran', 'João', 'Franz']\n"
          ]
        }
      ]
    },
    {
      "cell_type": "code",
      "source": [
        "# Método index(valor procurado, índice de ínicio da procura, e índice fim da procura) por definição se não for oferecido o índice de ínicio e fim será procurado na lista toda\n",
        "id = noivo.index('Fran')"
      ],
      "metadata": {
        "id": "8LUzFldzQOld"
      },
      "execution_count": null,
      "outputs": []
    },
    {
      "cell_type": "code",
      "source": [
        "# Qual é o imc da convidada Fran\n",
        "print(f'O IMC da Fran é {(massas[id]/alturas[id]**2):.2f}')"
      ],
      "metadata": {
        "colab": {
          "base_uri": "https://localhost:8080/"
        },
        "id": "xBB3JnbuTUR7",
        "outputId": "77457714-4e89-4846-bbf6-7464276155e5"
      },
      "execution_count": null,
      "outputs": [
        {
          "output_type": "stream",
          "name": "stdout",
          "text": [
            "O IMC da Fran é 17.26\n"
          ]
        }
      ]
    },
    {
      "cell_type": "markdown",
      "source": [
        "Desafio 1':\n",
        "Crie um programa que receba do usuário um nome e caso esse nome\n",
        "esteja na lista guarde seu índice em uma variável e a utilize para buscar massa e altura correspondente, bem como calcular seu imc e após tudo isso informar o usuário, caso o nome não esteja na lista retorne uma mensagem informando o usuário"
      ],
      "metadata": {
        "id": "XicPQBxKbsQc"
      }
    },
    {
      "cell_type": "code",
      "source": [
        "idades = [41, 47, 46, 28, 17, 50]\n",
        "massas = [86, 74, 52, 47, 90, 110]\n",
        "alturas = [1.68, 1.74, 1.65, 1.65, 1.80, 1.97]\n",
        "noivo = ['Zé','Mané','Ana','Fran','João','Franz'] # Cria o banco de dados com os nomes dos convidados do noivo\n",
        "nome = input('Informe o nome que deseja consultar: ') #recebendo o nome do usuário\n",
        "nome = nome.capitalize() #Deixo o nome que o usuário digitou com a primeira letra em caixa alta e as demais em caixa baixa\n",
        "if nome in noivo: # se o nome que o usuário digitou estiver no banco de dados faça algo\n",
        "  id2 = noivo.index(nome) # recebendo o argumento nome e procurando o seu índice já sabendo que ele está na lista exatmente com a mesma grafia\n",
        "  imc = massas[id2]/alturas[id2]**2 # calculando o imc já sabendo a posição que deve busta em cada lista (massas e alturas)\n",
        "  print(f'{nome} tem {massas[id2]} kg, {alturas[id2]} metros e seu imc é: {imc:.1f}') # Mostrando o nome digitado e seus respectivos massa, altura e imc\n",
        "else:\n",
        "  print(f'Desculpe, {nome} não está na lista, por favor reinicie o programa para consultar outro nome')"
      ],
      "metadata": {
        "colab": {
          "base_uri": "https://localhost:8080/"
        },
        "id": "WgvfN5DMadES",
        "outputId": "328e5af0-91ab-478c-a8c5-291ba5af0a1b"
      },
      "execution_count": null,
      "outputs": [
        {
          "output_type": "stream",
          "name": "stdout",
          "text": [
            "Informe o nome que deseja consultar: Ze\n",
            "Desculpe, Ze não está na lista, por favor reinicie o programa para consultar outro nome\n"
          ]
        }
      ]
    },
    {
      "cell_type": "code",
      "source": [
        "d = []"
      ],
      "metadata": {
        "id": "XiHundBgpLnI"
      },
      "execution_count": null,
      "outputs": []
    },
    {
      "cell_type": "code",
      "source": [
        "d.append(22)"
      ],
      "metadata": {
        "id": "EZmu1-2apPyr"
      },
      "execution_count": null,
      "outputs": []
    },
    {
      "cell_type": "code",
      "source": [
        "print(d)"
      ],
      "metadata": {
        "colab": {
          "base_uri": "https://localhost:8080/"
        },
        "id": "qvKAPPzepUkw",
        "outputId": "af05f63c-e025-4d32-db61-b12f3fc0528f"
      },
      "execution_count": null,
      "outputs": [
        {
          "output_type": "stream",
          "name": "stdout",
          "text": [
            "[22, 22, 22, 22, 22]\n"
          ]
        }
      ]
    },
    {
      "cell_type": "code",
      "source": [
        "# Adicionando elementos em uma lista qualquer com o método append() por padrão este método insero o valor desejado em uma lista existente na última posição\n",
        "lista_vazia = [] # cria uma lista vazia com o nome lista vazia e apaga todos os elementos de qualquer objeto com o mesmo nome\n",
        "print(lista_vazia) # imprime uma lista vazia que já existe\n",
        "lista_vazia.append('Joana') # adiciona Joana na última posição de uma lista que já exista\n",
        "lista_vazia.append('Douglas')\n",
        "lista_vazia.append('Eduardo')\n",
        "lista_vazia.append('Ester')\n",
        "lista_vazia.append('Daniela')\n",
        "lista_vazia.append('Pedro')\n",
        "lista_vazia.append('Maria')\n",
        "print(lista_vazia) # imprime o status atual da lista vazia\n",
        "fam = lista_vazia\n",
        "print(lista_vazia)\n",
        "print(fam)"
      ],
      "metadata": {
        "colab": {
          "base_uri": "https://localhost:8080/"
        },
        "id": "z3w9_XDSldDj",
        "outputId": "dd2c957c-2238-4c2b-c79c-033c48cd4e8f"
      },
      "execution_count": null,
      "outputs": [
        {
          "output_type": "stream",
          "name": "stdout",
          "text": [
            "[]\n",
            "['Joana', 'Douglas', 'Eduardo', 'Ester', 'Daniela', 'Pedro', 'Maria']\n",
            "['Joana', 'Douglas', 'Eduardo', 'Ester', 'Daniela', 'Pedro', 'Maria']\n",
            "['Joana', 'Douglas', 'Eduardo', 'Ester', 'Daniela', 'Pedro', 'Maria']\n"
          ]
        }
      ]
    },
    {
      "cell_type": "code",
      "source": [
        "fam.insert(3, 'Tobias')\n",
        "print(fam)"
      ],
      "metadata": {
        "colab": {
          "base_uri": "https://localhost:8080/"
        },
        "id": "SKS7kZL6pF-_",
        "outputId": "735be291-1f7e-4651-fdb8-0cfa8ff77f11"
      },
      "execution_count": null,
      "outputs": [
        {
          "output_type": "stream",
          "name": "stdout",
          "text": [
            "['Joana', 'Douglas', 'Eduardo', 'Tobias', 'Ester', 'Daniela', 'Pedro', 'Maria']\n"
          ]
        }
      ]
    },
    {
      "cell_type": "code",
      "source": [
        "fam[3] = 'Raimundo' # Atribuição direta insere um novo elemento substituindo o anterior se houver\n",
        "print(fam)"
      ],
      "metadata": {
        "colab": {
          "base_uri": "https://localhost:8080/"
        },
        "id": "UjUGQnyprhHd",
        "outputId": "a58c5700-bdda-4553-dcda-04c35e19ce4d"
      },
      "execution_count": null,
      "outputs": [
        {
          "output_type": "stream",
          "name": "stdout",
          "text": [
            "['Joana', 'Douglas', 'Eduardo', 'Raimundo', 'Ester', 'Daniela', 'Pedro', 'Maria']\n"
          ]
        }
      ]
    },
    {
      "cell_type": "code",
      "source": [
        "# Excluindo elementos de uma lista\n",
        "fam.pop() # método que exclui pelo índice, por padrão exclui o último elemento se não informarmos o índice\n",
        "print(fam)"
      ],
      "metadata": {
        "colab": {
          "base_uri": "https://localhost:8080/"
        },
        "id": "Hv2i8LiHswt9",
        "outputId": "dd7b9985-ce5a-41a1-83c5-d4fc17ce68b8"
      },
      "execution_count": null,
      "outputs": [
        {
          "output_type": "stream",
          "name": "stdout",
          "text": [
            "['Joana', 'Douglas', 'Eduardo', 'Raimundo', 'Ester', 'Daniela', 'Pedro']\n"
          ]
        }
      ]
    },
    {
      "cell_type": "code",
      "source": [
        "# Excluir Joana da lista fam pelo método pop\n",
        "fam.pop(0)\n",
        "print(fam)"
      ],
      "metadata": {
        "colab": {
          "base_uri": "https://localhost:8080/"
        },
        "id": "tcBtY6MytfJF",
        "outputId": "36c48768-b0b6-4f0d-e681-55823945d32b"
      },
      "execution_count": null,
      "outputs": [
        {
          "output_type": "stream",
          "name": "stdout",
          "text": [
            "['Douglas', 'Eduardo', 'Raimundo', 'Ester', 'Daniela', 'Pedro']\n"
          ]
        }
      ]
    },
    {
      "cell_type": "code",
      "source": [
        "# Excluir raimundo da lista fam pelo método remove\n",
        "fam.remove('Raimundo')\n",
        "print(fam)"
      ],
      "metadata": {
        "colab": {
          "base_uri": "https://localhost:8080/"
        },
        "id": "zjifDWGjtuDv",
        "outputId": "d7b9c216-0b01-48bc-ffb0-1180d28e8695"
      },
      "execution_count": null,
      "outputs": [
        {
          "output_type": "stream",
          "name": "stdout",
          "text": [
            "['Douglas', 'Eduardo', 'Ester', 'Daniela', 'Pedro']\n"
          ]
        }
      ]
    },
    {
      "cell_type": "markdown",
      "source": [
        "# Estruturas de dados em Python"
      ],
      "metadata": {
        "id": "MNslohm_Am2h"
      }
    },
    {
      "cell_type": "markdown",
      "source": [
        " - Listas"
      ],
      "metadata": {
        "id": "dwYGtUVuBC77"
      }
    },
    {
      "cell_type": "code",
      "source": [
        "# Lista é uma estrutura que pode armazenar diversos valores sobre um determinado atributo. (é interessante que os atributos tenham o mesmo type)\n",
        "lista_vazia = []\n",
        "noivo = ['Zé', 'Mané','Maria','Joana','Douglas','Fran','Vida']\n",
        "print(f'Convidados do noivo: {noivo}')\n",
        "idades = [44, 66, 4, 20, 47, 36, 26]\n",
        "print(f'Idades dos convidados do noivo: {idades}')\n",
        "massas = [86, 64, 47, 90, 110, 60, 63]\n",
        "print(f'Massas dos convidados do noivo: {massas}')\n",
        "alturas = [1.68, 1.74, 1.65, 1.65, 1.80, 1.97, 1.63]\n",
        "print(f'Altura dos convidados do noivo: {alturas}')"
      ],
      "metadata": {
        "colab": {
          "base_uri": "https://localhost:8080/"
        },
        "id": "qe_jD9FwAsAb",
        "outputId": "955e4765-c2f5-49b9-e91b-a9b9aceca99f"
      },
      "execution_count": null,
      "outputs": [
        {
          "output_type": "stream",
          "name": "stdout",
          "text": [
            "Convidados do noivo: ['Zé', 'Mané', 'Maria', 'Joana', 'Douglas', 'Fran', 'Vida']\n",
            "Idades dos convidados do noivo: [44, 66, 4, 20, 47, 36, 26]\n",
            "Massas dos convidados do noivo: [86, 64, 47, 90, 110, 60, 63]\n",
            "Altura dos convidados do noivo: [1.68, 1.74, 1.65, 1.65, 1.8, 1.97, 1.63]\n"
          ]
        }
      ]
    },
    {
      "cell_type": "code",
      "source": [
        "# Acessando um elemento específico da lista através do indice.\n",
        "print(noivo[3])\n",
        "pódio = noivo[:3] #sublista com os tres primeiros\n",
        "print(pódio)"
      ],
      "metadata": {
        "colab": {
          "base_uri": "https://localhost:8080/"
        },
        "id": "UoptdtjHFY6t",
        "outputId": "7774c7e5-c337-4e9f-f791-583f8e7f91cd"
      },
      "execution_count": null,
      "outputs": [
        {
          "output_type": "stream",
          "name": "stdout",
          "text": [
            "Joana\n",
            "['Zé', 'Mané', 'Maria']\n"
          ]
        }
      ]
    },
    {
      "cell_type": "code",
      "source": [
        "# Método Index (valor procurado{buscar}, a partir de qual indice, até qual indice)\n",
        "id = noivo.index('Fran') # id so pra atribuir o indice 5 pra uma variavel"
      ],
      "metadata": {
        "id": "5HO5ENyhQUEO"
      },
      "execution_count": null,
      "outputs": []
    },
    {
      "cell_type": "code",
      "source": [
        "# Calculando o IMC do convidado Fran\n",
        "print(f'O imc da fran é: {(massas[id]/alturas[id]**2):.2f}')"
      ],
      "metadata": {
        "colab": {
          "base_uri": "https://localhost:8080/"
        },
        "id": "xMljeetBTstG",
        "outputId": "51a2e617-cbc7-4e34-81df-0dbdaf892ee0"
      },
      "execution_count": null,
      "outputs": [
        {
          "output_type": "stream",
          "name": "stdout",
          "text": [
            "O imc da fran é: 15.46\n"
          ]
        }
      ]
    },
    {
      "cell_type": "code",
      "source": [
        "nome = input('Informe o nome que deseja consultar: ') #recebendo o nome do usuário\n",
        "nome = nome.capitalize() #Deixo o nome que o usuário digitou com a primeira letra em caixa alta e as demais em caixa baixa\n",
        "if nome in noivo: # se o nome que o usuário digitou estiver no banco de dados faça algo\n",
        "  id2 = noivo.index(nome) # recebendo o argumento nome e procurando o seu índice já sabendo que ele está na lista exatmente com a mesma grafia\n",
        "  imc = massas[id2]/alturas[id2]**2 # calculando o imc já sabendo a posição que deve busta em cada lista (massas e alturas)\n",
        "  print(f'{nome} tem {massas[id2]} kg, {alturas[id2]} metros e seu imc é: {imc:.1f}') #Mostrando os dados a partir do indice do nome digitado.\n",
        "else:\n",
        "  print(f'Desculpe, {nome} não está na lista, por favor reinicie o programa para consultar outro nome')"
      ],
      "metadata": {
        "id": "i4NUO7KDg_X_"
      },
      "execution_count": null,
      "outputs": []
    },
    {
      "cell_type": "code",
      "source": [
        "# Adicionando elementos à uma lista com o método append() por padrão este método insere o valor desejado em uma lista existente na última posição\n",
        "lista_vazia = []\n",
        "print(lista_vazia)\n",
        "lista_vazia.append('Joana')\n",
        "lista_vazia.append('Douglas')\n",
        "lista_vazia.append('Eduardo')\n",
        "lista_vazia.append('Ester')\n",
        "lista_vazia.append('Daniela')\n",
        "lista_vazia.append('Pedro')\n",
        "lista_vazia.append('Maria')\n",
        "lista_vazia.append('Tainha')\n",
        "print(lista_vazia) # imprime o status atual da lista vazia\n",
        "fam = lista_vazia\n",
        "print(lista_vazia)\n",
        "print(fam)"
      ],
      "metadata": {
        "id": "uorQWgxAlqCH"
      },
      "execution_count": null,
      "outputs": []
    },
    {
      "cell_type": "code",
      "source": [
        "# lista.insert(indice onde vai inserir, o que vai inserir)\n",
        "fam.insert(3,'Tobias')\n",
        "print(fam)"
      ],
      "metadata": {
        "id": "3m3kkgcgrVi3"
      },
      "execution_count": null,
      "outputs": []
    },
    {
      "cell_type": "code",
      "source": [
        "# Atribuição direta\n",
        "fam[3] = 'Teupai'\n",
        "print(fam)"
      ],
      "metadata": {
        "id": "e6-0VzRfrzS_"
      },
      "execution_count": null,
      "outputs": []
    },
    {
      "cell_type": "code",
      "source": [
        "# Excluindo elementos de uma lista, método (variavel.pop)\n",
        "fam.pop() #método que exclui pelo índice, por padrão exclui o último elemento se não informarmos o índice\n",
        "print(fam)\n",
        "fam.pop(3)\n",
        "print(fam)"
      ],
      "metadata": {
        "id": "0ViMKDqIs8u3"
      },
      "execution_count": null,
      "outputs": []
    },
    {
      "cell_type": "code",
      "source": [
        "fam.insert(0,'Tainha')"
      ],
      "metadata": {
        "id": "zlZ90tf2uZtX"
      },
      "execution_count": null,
      "outputs": []
    },
    {
      "cell_type": "code",
      "source": [
        "# Excluindo elementos de uma lista, método (variável.remove)\n",
        "fam.remove('Tobias')\n",
        "print(fam)"
      ],
      "metadata": {
        "id": "Str8CKx2ty7H"
      },
      "execution_count": null,
      "outputs": []
    },
    {
      "cell_type": "markdown",
      "source": [
        "## Listas (continuação da aula 16)"
      ],
      "metadata": {
        "id": "zFEqQKEFxhEX"
      }
    },
    {
      "cell_type": "code",
      "execution_count": null,
      "metadata": {
        "id": "Xi3Rwln0xTdw"
      },
      "outputs": [],
      "source": [
        "# criando uma lista com strings\n",
        "nomes = ['Douglas', 'Daniela', 'Pedro', 'Maria', 'Eduardo', 'Ester']\n",
        "\n",
        "# criando uma lista com números inteiros\n",
        "pesos = [78, 25, 98, 63, 92, 67]\n",
        "\n",
        "# criando uma lista com números fracionários\n",
        "alturas = [1.85, 1.29, 1.75, 1.67, 1.82, 1.70]"
      ]
    },
    {
      "cell_type": "code",
      "source": [
        "# forçando um erro usando o remove\n",
        "nomes.remove('xerox')"
      ],
      "metadata": {
        "id": "wWCtRs7t11f7"
      },
      "execution_count": null,
      "outputs": []
    },
    {
      "cell_type": "code",
      "source": [
        "# solução 1\n",
        "teste = input('Informe o nome que deseja excluir da lista: ') # recebe um nome do usuário e o guarda na variável teste\n",
        "teste = teste.capitalize() # Padroniza a variável teste com a primeira letra maiúscula\n",
        "if teste in nomes: # verifica se o nome armazenado em teste está na lista de nomes\n",
        "  nomes.remove(teste) # se somente se o nome armazenado em teste estiver na lista, faz a exclusão\n",
        "  print(f'O nome {teste} foi exluído com sucesso') # imprime o resultado da exclusão se somente se ela for feita\n",
        "else:\n",
        "  print(f'O nome {teste} não está na lista, logo não pode ser excluído') # Caso o nome digitado não esteja na lista informa o usuário essa situação"
      ],
      "metadata": {
        "id": "YtUtiTiyyQrl"
      },
      "execution_count": null,
      "outputs": []
    },
    {
      "cell_type": "code",
      "source": [
        "# solução 2 (utlizando try/except)\n",
        "teste2 = input('Informe o nome que deseja excluir da lista: ') # recebe um nome do usuário e o guarda na variável teste\n",
        "teste2 = teste2.capitalize()# Padroniza a variável teste com a primeira letra maiúscula\n",
        "try: # comando para tentar fazer alguma ação\n",
        "  nomes.remove(teste2) # ação que será feita caso a tentativa seja bem sucedida (neste caso se o nome digitado estiver na lista)\n",
        "  print(f'O nome {teste2} foi excluído com sucesso') # imprime o resultado da exclusão se somente se ela for feita\n",
        "except: # comando para o caso da tentativa (try) ser mal sucedida (no caso se o nome não estiver na lista)\n",
        "  print(f'O nome {teste2} não está na lista, logo não pode ser excluído') # Caso o nome digitado não esteja na lista informa o usuário essa situação"
      ],
      "metadata": {
        "id": "ADgFfeAoyaeB"
      },
      "execution_count": null,
      "outputs": []
    },
    {
      "cell_type": "code",
      "source": [
        "# Tamanho da lista len(lista)\n",
        "print(len(nomes))\n",
        "\n",
        "# Maior valor da lista\n",
        "print(max(pesos))\n",
        "\n",
        "# Menor valor da lista\n",
        "print(min(alturas))\n",
        "\n",
        "# Soma dos valores de uma lista\n",
        "print(sum(alturas))\n",
        "\n",
        "# Contando a frequência de um valor em uma lista\n",
        "print(nomes.count('Douglas'))\n",
        "\n",
        "# Ordenar uma lista crescente\n",
        "nomes.sort()\n",
        "print(nomes)\n",
        "# Ordenar uma lista decrescente\n",
        "nomes.sort(reverse=True)\n",
        "print(nomes)"
      ],
      "metadata": {
        "id": "SXMu5HeWyd4q",
        "colab": {
          "base_uri": "https://localhost:8080/"
        },
        "outputId": "f2b2eb48-5ad0-4120-9976-cabbf3579c69"
      },
      "execution_count": null,
      "outputs": [
        {
          "output_type": "stream",
          "name": "stdout",
          "text": [
            "6\n",
            "98\n",
            "1.29\n",
            "10.08\n",
            "1\n",
            "['Daniela', 'Douglas', 'Eduardo', 'Ester', 'Maria', 'Pedro']\n",
            "['Pedro', 'Maria', 'Ester', 'Eduardo', 'Douglas', 'Daniela']\n"
          ]
        }
      ]
    },
    {
      "cell_type": "code",
      "source": [
        "# Adicionando todos os elementos de uma lista em outra usando o método extend\n",
        "# Melhor para alteração no banco de dados\n",
        "nomes1 = ['Zé', 'Mané']\n",
        "nomes2 = ['Ana', 'José']\n",
        "\n",
        "nomes1.extend(nomes2)\n",
        "\n",
        "print(nomes1)"
      ],
      "metadata": {
        "id": "9PXa5yVXy75H"
      },
      "execution_count": null,
      "outputs": []
    },
    {
      "cell_type": "code",
      "source": [
        "# Adicionando todos os elementos de uma lista em outra usando sinal de (+) (concatenando listas)\n",
        "# Melhor para filtro\n",
        "nomes1 = ['Zé', 'Mané']\n",
        "nomes2 = ['Ana', 'José']\n",
        "\n",
        "teste = nomes1 + nomes2\n",
        "print(teste)"
      ],
      "metadata": {
        "id": "PWRscUlrzitr"
      },
      "execution_count": null,
      "outputs": []
    },
    {
      "cell_type": "code",
      "source": [
        "# Colocando uma lista dentro de outra\n",
        "carros = ['Fusca', 'Gol']\n",
        "carros2 = ['Uno', 'Punto', 'Bravo']\n",
        "carros.append(carros2)\n",
        "print(carros)\n",
        "len(carros)"
      ],
      "metadata": {
        "id": "CK6fgBNkyj8I"
      },
      "execution_count": null,
      "outputs": []
    },
    {
      "cell_type": "code",
      "source": [
        "# tirando uma lista da outra\n",
        "fiat = carros[2]\n",
        "print(fiat)\n",
        "carros2.append('Opala') # inserir no ultimo indice, se quiser especificar usa .insert('bla', indice)"
      ],
      "metadata": {
        "id": "aEbtd01wypPZ"
      },
      "execution_count": null,
      "outputs": []
    },
    {
      "cell_type": "code",
      "source": [
        "# tirando um item de uma lista que está dentro de outra\n",
        "ok = carros[2][-1]\n",
        "print(f'O melhor carro de todos os tempos é o {ok}')"
      ],
      "metadata": {
        "id": "EpUjdG5Xysct"
      },
      "execution_count": null,
      "outputs": []
    },
    {
      "cell_type": "markdown",
      "source": [
        "Função Range"
      ],
      "metadata": {
        "id": "A0PyChFX30TF"
      }
    },
    {
      "cell_type": "code",
      "source": [
        "# Função range com um argumento cria um lista com n valores inteiros de 0 a a n-1\n",
        "lista1 = list(range(5))\n",
        "print(lista1)\n",
        "# Função range com dois argumentos cria um lista com n valores inteiros do início informado no primeiro argumento até  ((n-1) - primeiro argumento informado) informado no segundo argumento\n",
        "lista2 = list(range(1,5))\n",
        "print(lista2)\n",
        "# Função range com três argumentos cria um lista com definição de onde começar (primeiro argumento), onde parar (segundo argumento) e de qual tamando de intervalo entre os valores (terceiro argumento)\n",
        "lista3 = list(range(0,5,2))\n",
        "print(lista3)"
      ],
      "metadata": {
        "id": "UfUkWKBX3VwL"
      },
      "execution_count": null,
      "outputs": []
    },
    {
      "cell_type": "markdown",
      "source": [
        "# Estruturas de repetição (For)"
      ],
      "metadata": {
        "id": "iZmiqJ_o4DB5"
      }
    },
    {
      "cell_type": "code",
      "source": [
        "# Apresentando e utilizando o for de forma simples\n",
        "pesos = [78, 25, 98, 63, 92, 67]\n",
        "for i in pesos:\n",
        "  print(i)"
      ],
      "metadata": {
        "id": "qJQPE5C74V9S"
      },
      "execution_count": null,
      "outputs": []
    },
    {
      "cell_type": "code",
      "source": [
        "# Utilizando o for com else\n",
        "for i in pesos:\n",
        "    print(i)\n",
        "else:\n",
        "    print('Todos os items foram exibidos com sucesso')"
      ],
      "metadata": {
        "id": "vAC1jmyL5o0j"
      },
      "execution_count": null,
      "outputs": []
    },
    {
      "cell_type": "code",
      "source": [
        "# Utilizando o for com range\n",
        "alturas_quad = []\n",
        "imc = []\n",
        "for i in range(len(pesos)):\n",
        "  print(i)\n",
        "  alturas_quad.append(alturas[i]**2)\n",
        "  imc.append(pesos[i]/alturas_quad[i])\n",
        "print(f'IMC {imc}')\n",
        "print(alturas_quad)"
      ],
      "metadata": {
        "id": "p51VHrjT6La2",
        "colab": {
          "base_uri": "https://localhost:8080/"
        },
        "outputId": "283a2648-976f-457f-f713-dd89a0311cb5"
      },
      "execution_count": null,
      "outputs": [
        {
          "output_type": "stream",
          "name": "stdout",
          "text": [
            "0\n",
            "1\n",
            "2\n",
            "3\n",
            "4\n",
            "5\n",
            "IMC [22.79035792549306, 15.023135628868456, 32.0, 22.589551436050055, 27.77442337881898, 23.18339100346021]\n",
            "[3.4225000000000003, 1.6641000000000001, 3.0625, 2.7889, 3.3124000000000002, 2.8899999999999997]\n"
          ]
        }
      ]
    },
    {
      "cell_type": "code",
      "source": [
        "# Utilizando o for com enumerate\n",
        "alturas_quad = []\n",
        "imc = []\n",
        "for i, v in enumerate(pesos):\n",
        "  print(i)\n",
        "  print(v)\n",
        "  alturas_quad.append(alturas[i]**2)\n",
        "  imc.append(pesos[i]/alturas_quad[i])\n",
        "print(f'IMC {imc}')"
      ],
      "metadata": {
        "id": "yevV3zUk-cKy"
      },
      "execution_count": null,
      "outputs": []
    },
    {
      "cell_type": "markdown",
      "source": [
        "# Excercício x\n",
        "Aluno: Igor Honório"
      ],
      "metadata": {
        "id": "mn4oDUyzAVQU"
      }
    },
    {
      "cell_type": "markdown",
      "source": [
        "1 - Crie um script que receba do usuário uma lista de n números inteiros digitados pelo\n",
        "usuário na mesma caixa de entrada separados por espaços e após isso utilize o método\n",
        "split para separar esses números e armazená-los em uma lista acesse o índice 0 dessa\n",
        "nova lista e verifique seu tipo e caso seja o tipo inteiro imprima para o usuário a seguinte\n",
        "mensagem: este valor é do tipo inteiro, caso contrário imprima: este valor não é do tipo\n",
        "inteiro."
      ],
      "metadata": {
        "id": "4vUOqxJJK-Mh"
      }
    },
    {
      "cell_type": "code",
      "execution_count": null,
      "metadata": {
        "id": "Pw4N7jBhAFoT"
      },
      "outputs": [],
      "source": [
        "# Ex1\n",
        "lista = input('Insira numeros inteiros separados por espaço:')\n",
        "listanova = lista.split()\n",
        "i0 = listanova[0]\n",
        "\n",
        "if type(i0) == int:\n",
        "  print('Esse número é inteiro')\n",
        "else:\n",
        "  print(f'Esse número não é inteiro')"
      ]
    },
    {
      "cell_type": "markdown",
      "source": [
        "2 - Crie um script que aproveite a lista utilizada para imprimir a mensagem do exercício\n",
        "anterior e utilize uma estrutura for que percorra toda a lista e faça a tipagem de cada\n",
        "valor como inteiro, após isso acesse o índice 0 dessa nova lista e verifique seu tipo e\n",
        "caso seja o tipo inteiro imprima para o usuário a seguinte mensagem: este valor é do\n",
        "tipo inteiro, caso contrário imprima: este valor não é do tipo inteiro."
      ],
      "metadata": {
        "id": "SOG1-PLULCdN"
      }
    },
    {
      "cell_type": "code",
      "source": [
        "# Ex2\n",
        "lista_int = []\n",
        "\n",
        "for n in listanova:\n",
        " lista_int.append(int(n))\n",
        "\n",
        "if type(lista_int[0]) == int:\n",
        "  print('Esse número é inteiro')\n",
        "else:\n",
        "  print(f'Esse número não é inteiro')"
      ],
      "metadata": {
        "colab": {
          "base_uri": "https://localhost:8080/"
        },
        "id": "VBd47eEjKyve",
        "outputId": "e10df61a-1f9f-4014-bfdd-f35605b18250"
      },
      "execution_count": null,
      "outputs": [
        {
          "output_type": "stream",
          "name": "stdout",
          "text": [
            "Esse número é inteiro\n"
          ]
        }
      ]
    },
    {
      "cell_type": "markdown",
      "source": [
        "3 - Utilizando a lista tipada como int do exercício 2, faça um print que exiba a soma de  todos os valores dessa lista."
      ],
      "metadata": {
        "id": "yJiRDYju8KnW"
      }
    },
    {
      "cell_type": "code",
      "source": [
        "# Ex3\n",
        "soma = sum(lista_int)\n",
        "print(soma)"
      ],
      "metadata": {
        "colab": {
          "base_uri": "https://localhost:8080/"
        },
        "id": "q59eiHkp8cc-",
        "outputId": "0d16d4f9-d83c-4895-f00e-343406e80932"
      },
      "execution_count": null,
      "outputs": [
        {
          "output_type": "stream",
          "name": "stdout",
          "text": [
            "66\n"
          ]
        }
      ]
    },
    {
      "cell_type": "markdown",
      "source": [
        "4 - Crie uma lista vazia denominada quadrados e utilizando a lista tipada como int do  exercício 2, faça uma estrutura do tipo for que percorra cada elemento dessa lista de  números inteiros, eleve cada valor encontrado ao quadrado e insira cada resultado na  lista quadrados e ao final exiba a soma dos valores da lista quadrados."
      ],
      "metadata": {
        "id": "N-xU0RTw8Lz2"
      }
    },
    {
      "cell_type": "code",
      "source": [
        "# Ex4\n",
        "quadrados = []\n",
        "for v in lista_int:\n",
        "  quadrados.append(v**2)\n",
        "print(f'{sum(quadrados)}')"
      ],
      "metadata": {
        "colab": {
          "base_uri": "https://localhost:8080/"
        },
        "id": "bNJnTJea8czZ",
        "outputId": "6bf621e0-a18d-43f0-9da0-81f729cad94a"
      },
      "execution_count": null,
      "outputs": [
        {
          "output_type": "stream",
          "name": "stdout",
          "text": [
            "3166\n"
          ]
        }
      ]
    },
    {
      "cell_type": "markdown",
      "source": [
        "5 - Crie um programa que receba do usuário duas listas de n números inteiros digitados  pelo usuário separados por espaços e após isso utilize o método split para dividir cada  lista gerando duas novas listas chamadas x e y é importante deixar claro para o usuário  que as duas listas digitadas devem ter a mesma quantidade de números digitados  independente de quantos sejam. Após isso, faça a tipagem de todos os números das  duas listas como float, então crie três novas listas vazias: xquad, yquad e xy. Agora  preencha a lista xquad com cada elemento da lista x elevado ao quadrado, depois faça  o mesmo para yquad, elevando cada elemento de y ao quadrado e por último preencha  a lista xy fazendo a multiplicação de cada valor da lista x pelo seu correspondente na  lista y. No final crie a variável sx que recebe a soma dos valores da lista x, a variável sy  que recebe a soma dos valores da lista y, a variável sxquad, que recebe a soma da lista  xquad, a variável syquad que recebe a soma da lista de yquad e a variável sxy que  recebe a soma da lista de xy e no final imprima todas as variáveis de soma criadas."
      ],
      "metadata": {
        "id": "aWCctMJk8Qe7"
      }
    },
    {
      "cell_type": "code",
      "source": [
        "# Ex5\n",
        "listx = input('Insira uma lista de numeros inteiros separados por espaço:')\n",
        "listy = input('Insira outra lista de numeros inteiros separados por espaço, do mesmo tamanho:')\n",
        "x = listx.split()\n",
        "y = listy.split()\n",
        "if len(x) == len(y):\n",
        "  for v in range(0, len(x)):\n",
        "    x[v] = float(x[v])\n",
        "    y[v] = float(y[v])\n",
        "  xquad = []\n",
        "  yquad = []\n",
        "  xy = []\n",
        "  for z in range(0, len(x)):\n",
        "    xquad.append(x[z]**2)\n",
        "    yquad.append(y[z]**2)\n",
        "    xy.append(x[z] * y[z])\n",
        "  sx = sum(x)\n",
        "  sy = sum(y)\n",
        "  sxquad = sum(xquad)\n",
        "  syquad = sum(yquad)\n",
        "  sxy = sum(xy)\n",
        "  print(f'{sx} {sy} {sxquad} {syquad} {sxy}')\n",
        "else:\n",
        "  print('Por favor, tente denovo inserindo uma lista de tamanho igual.')"
      ],
      "metadata": {
        "colab": {
          "base_uri": "https://localhost:8080/"
        },
        "id": "QRPsC5MwAs0w",
        "outputId": "10ad07ae-4c61-4996-9997-13a9c1353d10"
      },
      "execution_count": null,
      "outputs": [
        {
          "output_type": "stream",
          "name": "stdout",
          "text": [
            "Insira uma lista de numeros inteiros separados por espaço:1 2 2 1 2\n",
            "Insira outra lista de numeros inteiros separados por espaço, do mesmo tamanho:2 1 1 2 4\n",
            "8.0 10.0 14.0 26.0 16.0\n"
          ]
        }
      ]
    },
    {
      "cell_type": "markdown",
      "source": [
        "# Loop while"
      ],
      "metadata": {
        "id": "OoCGWlQ4G_nV"
      }
    },
    {
      "cell_type": "markdown",
      "source": [
        "while \"enquanto condição... :\n",
        "   faça algo.\"\n",
        "   Sentença que declara uma condiçao que enquanto for verdadeira executa um bloco de códigos linha por linha na ordem específica de cada linha."
      ],
      "metadata": {
        "id": "f2QjjSIdLA1j"
      }
    },
    {
      "cell_type": "code",
      "source": [
        "cont = 0\n",
        "n = int(input('Insira um número: '))\n",
        "while cont < n:\n",
        "  print(f'Contador está em: {cont} ')\n",
        "  cont += 1"
      ],
      "metadata": {
        "id": "tf-3-FyKHE1D"
      },
      "execution_count": null,
      "outputs": []
    },
    {
      "cell_type": "code",
      "source": [
        "'''\n",
        "Faça um script que receba do usuário 5 números inteiros, armazene os números recebidos em uma lista e no final exiba a soma desses valores.\n",
        "'''"
      ],
      "metadata": {
        "id": "QrgUvSoORbRU"
      },
      "execution_count": null,
      "outputs": []
    },
    {
      "cell_type": "code",
      "source": [
        "lista = []\n",
        "\n",
        "n1 = int(input('Digite um número inteiro: '))\n",
        "n2 = int(input('Digite outro número inteiro: '))\n",
        "n3 = int(input('Digite mais um número inteiro: '))\n",
        "n4 = int(input('Digite mais um número inteiro: '))\n",
        "n5 = int(input('Digite o último número inteiro: '))\n",
        "lista.append(n1)\n",
        "lista.append(n2)\n",
        "lista.append(n3)\n",
        "lista.append(n4)\n",
        "lista.append(n5)\n",
        "\n",
        "print(sum(lista))"
      ],
      "metadata": {
        "colab": {
          "base_uri": "https://localhost:8080/"
        },
        "id": "Ffmr65BCSo29",
        "outputId": "6a866731-13b7-4815-f3c6-613337c9abbd"
      },
      "execution_count": null,
      "outputs": [
        {
          "output_type": "stream",
          "name": "stdout",
          "text": [
            "Digite um número inteiro: 1\n",
            "Digite outro número inteiro: 2\n",
            "Digite mais um número inteiro: 3\n",
            "Digite mais um número inteiro: 4\n",
            "Digite o último número inteiro: 5\n",
            "15\n"
          ]
        }
      ]
    },
    {
      "cell_type": "code",
      "source": [
        "'''\n",
        "Faça um script que receba do usuário n números inteiros, armazene os\n",
        "números recebidos a cada momento em que forem recebidos em uma lista e\n",
        "no final exiba a soma desses valores. Considere que o usuário deverá informar\n",
        "apenas 1 numero inteiro por caixa de diálogo é permitido usar (While)\n",
        "'''\n",
        "\n",
        "c = 0\n",
        "q = int(input('Informe a quantidade de números que deseja na lista: '))\n",
        "numeros = []\n",
        "while c < q:\n",
        "  numeros.append(int(input(f'Informe o {c+1}º numero inteiro da lista: ')))\n",
        "  c += 1\n",
        "print(f'A soma dos valores digitados é {sum(numeros)} ')"
      ],
      "metadata": {
        "id": "8HwX7v5kczPM"
      },
      "execution_count": null,
      "outputs": []
    },
    {
      "cell_type": "code",
      "source": [
        "'''\n",
        "Faça um programa que receba do usuário números inteiros e os insira na lista\n",
        "somente se o número for ímpar e encerre o programa quando a lista tiver 5 números\n",
        "'''\n",
        "c = 0\n",
        "numerosimp = []\n",
        "while c < 5:\n",
        "  n = int(input(f'Insira um número inteiro: '))\n",
        "  if n % 2 != 0:\n",
        "    numerosimp.append(n)\n",
        "    c += 1\n",
        "  else:\n",
        "    pass\n",
        "print(numerosimp)"
      ],
      "metadata": {
        "colab": {
          "base_uri": "https://localhost:8080/"
        },
        "id": "XNGP4g95i6Um",
        "outputId": "181e6e2d-4c1a-45ee-9738-fc7b4c888b53"
      },
      "execution_count": null,
      "outputs": [
        {
          "output_type": "stream",
          "name": "stdout",
          "text": [
            "Insira um número inteiro: 2\n",
            "Insira um número inteiro: 4\n",
            "Insira um número inteiro: 6\n",
            "Insira um número inteiro: 7\n",
            "Insira um número inteiro: 6\n",
            "Insira um número inteiro: 55\n",
            "Insira um número inteiro: 19\n",
            "Insira um número inteiro: 23\n",
            "Insira um número inteiro: 1\n",
            "[7, 55, 19, 23, 1]\n"
          ]
        }
      ]
    },
    {
      "cell_type": "code",
      "source": [
        "'''\n",
        "Faça um script que receba do usuário n números inteiros, armazene os\n",
        "números recebidos a cada momento em que forem recebidos em uma lista e\n",
        "no final exiba a soma desses valores. Considere que o usuário deverá informar\n",
        "apenas 1 numero inteiro por caixa de diálogo é permitido usar (While)\n",
        "'''\n",
        "\n",
        "c = 0\n",
        "while True:\n",
        "  try:\n",
        "    n = int(input('Insira a quantidade de números inteiros que deseja na lista: '))\n",
        "    break\n",
        "  except:\n",
        "    pass\n",
        "  print(f'Cuidado! Você não inseriu um número inteiro! Por favor, faça isso: ')\n",
        "lista = []\n",
        "while c < n:\n",
        "  try:\n",
        "    lista.append(int(input(f'Insira o {c+1}º número da lista: ')))\n",
        "    c += 1\n",
        "  except:\n",
        "    pass\n",
        "    print(f'Cuidado! Você não inseriu um número inteiro! Por favor, Insira o {c+1}º número da lista: ')\n",
        "print(f'A soma dos números da lista é: {sum(lista)}')"
      ],
      "metadata": {
        "colab": {
          "base_uri": "https://localhost:8080/"
        },
        "id": "c_8jaNG5zPpn",
        "outputId": "1c2146cf-0698-4800-f36c-08a680a3ee0f"
      },
      "execution_count": null,
      "outputs": [
        {
          "output_type": "stream",
          "name": "stdout",
          "text": [
            "Insira a quantidade de números inteiros que deseja na lista: 5.5\n",
            "Cuidado! Você não inseriu um número inteiro! Por favor, faça isso: \n",
            "Insira a quantidade de números inteiros que deseja na lista: 9.5\n",
            "Cuidado! Você não inseriu um número inteiro! Por favor, faça isso: \n",
            "Insira a quantidade de números inteiros que deseja na lista: 4\n",
            "Insira o 1º número da lista: 2.1\n",
            "Cuidado! Você não inseriu um número inteiro! Por favor, Insira o 1º número da lista: \n",
            "Insira o 1º número da lista: p\n",
            "Cuidado! Você não inseriu um número inteiro! Por favor, Insira o 1º número da lista: \n",
            "Insira o 1º número da lista: /\n",
            "Cuidado! Você não inseriu um número inteiro! Por favor, Insira o 1º número da lista: \n",
            "Insira o 1º número da lista: 4\n",
            "Insira o 2º número da lista: 5\n",
            "Insira o 3º número da lista: 4\n",
            "Insira o 4º número da lista: 6\n",
            "[4, 5, 4, 6]\n",
            "A soma dos números da lista é: 19\n"
          ]
        }
      ]
    },
    {
      "cell_type": "markdown",
      "source": [
        "# Python básico - funções"
      ],
      "metadata": {
        "id": "Eg8udeY4rXHZ"
      }
    },
    {
      "cell_type": "code",
      "source": [
        "'''\n",
        "def nomedafunçao(argumento1, argumento2 ... argumenton):\n",
        "  bloco de codigo\n",
        "  return \"valor\"\n",
        "'''"
      ],
      "metadata": {
        "id": "pxRy0W44rcGw"
      },
      "execution_count": null,
      "outputs": []
    },
    {
      "cell_type": "code",
      "source": [
        "# Ex de funçao sem argumento e sem bloco de codigo\n",
        "def teste():\n",
        "  return print('Bom Dia!')\n",
        "# Chamando a funçao\n",
        "teste()"
      ],
      "metadata": {
        "id": "l43MEMz_seo4"
      },
      "execution_count": null,
      "outputs": []
    },
    {
      "cell_type": "code",
      "source": [
        "# Ex de funçao com argumento e bloco de codigo\n",
        "# crie uma funçao que receba 2 argumentos (x, y) e faça o calculo de x ** y\n",
        "def pot(x, y):\n",
        "  potenc = x ** y\n",
        "  return print(f'A potenciaçao dos dois valores é: {potenc}')\n",
        "# chamando a funçao\n",
        "pot(2, 3)"
      ],
      "metadata": {
        "colab": {
          "base_uri": "https://localhost:8080/"
        },
        "id": "QViyPliCuI_w",
        "outputId": "e9eca5a0-4050-4f57-f312-cba61cd1a43b"
      },
      "execution_count": null,
      "outputs": [
        {
          "output_type": "stream",
          "name": "stdout",
          "text": [
            "A potenciaçao dos dois valores é: 8\n"
          ]
        }
      ]
    },
    {
      "cell_type": "code",
      "source": [
        "# Chamando a função invertendo a ordem padrão dos argumentos sem aviso prévio (vai mudar o resultado anterior)\n",
        "pot(3, 2)"
      ],
      "metadata": {
        "colab": {
          "base_uri": "https://localhost:8080/"
        },
        "id": "EQeyHntuxrHR",
        "outputId": "09efdc07-dfcf-4aa5-fd79-069de9790e9d"
      },
      "execution_count": null,
      "outputs": [
        {
          "output_type": "stream",
          "name": "stdout",
          "text": [
            "A potenciaçao dos dois valores é: 9\n"
          ]
        }
      ]
    },
    {
      "cell_type": "code",
      "source": [
        "# Para inverter a ordem padrão dos argumentos é necessário explicitar os valores dos argumentos\n",
        "pot(y=3, x=2)"
      ],
      "metadata": {
        "id": "o0HmvNKUxv0Y"
      },
      "execution_count": null,
      "outputs": []
    },
    {
      "cell_type": "code",
      "source": [
        "# Também é possível ser redundante e respeitar a ordem padrão dos argumentos e explicitar os seus valores\n",
        "pot(x=2, y=3)"
      ],
      "metadata": {
        "id": "xT_RS0TL2NOp"
      },
      "execution_count": null,
      "outputs": []
    },
    {
      "cell_type": "code",
      "source": [
        "'''\n",
        "Elabore uma função que receba do usuário os valores de preço de venda (p),\n",
        "custo variável (cv), custo fixo (cf) e calcule o valor do ponto de equlíbrio\n",
        "em quantidade e informe o usuário.\n",
        "'''\n",
        "def peq():\n",
        "  p = float(input(f'Insira o valor de preço unitário de venda em reais: '))\n",
        "  cv = float(input(f'Insira o valor do custo variável: '))\n",
        "  cf = float(input(f'Insira o valor do custo fixo mensal: '))\n",
        "  qt = cf / (p - cv)\n",
        "  return print(f'A partir de aproximadamente {qt:.0f} unidades, você terá lucro.')"
      ],
      "metadata": {
        "id": "Ll20LvZh2RiA"
      },
      "execution_count": null,
      "outputs": []
    },
    {
      "cell_type": "code",
      "source": [
        "peq()"
      ],
      "metadata": {
        "colab": {
          "base_uri": "https://localhost:8080/"
        },
        "id": "Me3pDqyy45Wx",
        "outputId": "f5ddec9a-1234-4310-eace-13b8df6fdac5"
      },
      "execution_count": null,
      "outputs": [
        {
          "output_type": "stream",
          "name": "stdout",
          "text": [
            "Insira o valor de preço unitário de venda em reais: 10\n",
            "Insira o valor do custo variável: 6\n",
            "Insira o valor do custo fixo mensal: 5000\n",
            "A partir de aproximadamente 1250 unidades, você terá lucro.\n"
          ]
        }
      ]
    },
    {
      "cell_type": "markdown",
      "source": [
        "# Exercícios"
      ],
      "metadata": {
        "id": "PMF1Iu045sZ7"
      }
    },
    {
      "cell_type": "code",
      "source": [
        "'''\n",
        "Elabore uma funçao que receba em 6 inputs diferentes as seguintes informaçoes:\n",
        "1 - Receita líquida em reais\n",
        "2 - Custo em reais\n",
        "3 - Estoques em reais\n",
        "4 - Contas a receber em reais\n",
        "5 - Fornecedores em reais\n",
        "6 - Número de dias do balanço em inteiro\n",
        "após receber as informaçoes acima, a funçao deve calcular o valor e printalo dos seguintes KPI's:\n",
        "a - prazo medio de estoques (pme)\n",
        "b - prazo medio de recebimento(pmr)\n",
        "c - prazo medio de pagamento (pmp)\n",
        "d - ciclo operacional (co)\n",
        "e - ciclo de caixa (cc)\n",
        "e por ultimo, se (pmp) for maior que (co), printe a mensagem :\n",
        "\"Essa empresa paga em média tantos dias após receber\"\n",
        "se (pmp) for menor que (co), printe:\n",
        "\"Essa empresa paga em média tantos dias após receber\"\n",
        "se (pmp) for igual a (co), printe:\n",
        "\"Essa empresa paga em média no mesmo dia em que recebe\"\n",
        "'''\n",
        "def balance():\n",
        "  rl = float(input('Insira a receita líquida em reais: '))\n",
        "  c = float(input('Insira o custo em reais: '))\n",
        "  e = float(input('Insira o estoque em reais: '))\n",
        "  cr = float(input('Insira as contas a receber em reais: '))\n",
        "  f = float(input('Insira os fornecedores em reais: '))\n",
        "  d = int(input('Insira o numero de dias do balanço em inteiro: '))\n",
        "  pme = (e / c) * d\n",
        "  pmr = (cr / rl) * d\n",
        "  pmp = (f / c) * d\n",
        "  co = pme + pmr\n",
        "  cc = co - pmp\n",
        "  print(f'pme é: {pme:.0f}, pmr é: {pmr:.0f}, pmp é: {pmp:.0f}, co é: {co:.0f}, cc é: {cc:.0f}')\n",
        "  if pmp > co:\n",
        "    return print(f'Essa empresa paga em média {abs(cc):.0f} após receber')\n",
        "  elif pmp < co:\n",
        "    return print(f'Essa empresa paga em média {abs(cc):.0f} antes de receber')\n",
        "  else:\n",
        "    return print(f'Essa empresa paga em média no mesmo dia em que recebe')"
      ],
      "metadata": {
        "id": "I0MG7lUe5gF4"
      },
      "execution_count": null,
      "outputs": []
    },
    {
      "cell_type": "code",
      "source": [
        "balance()"
      ],
      "metadata": {
        "colab": {
          "base_uri": "https://localhost:8080/"
        },
        "id": "1pfbKqzu-6hB",
        "outputId": "d66d5622-a30f-46a9-db0e-15609c227a36"
      },
      "execution_count": null,
      "outputs": [
        {
          "output_type": "stream",
          "name": "stdout",
          "text": [
            "Insira a receita líquida em reais: 10000\n",
            "Insira o custo em reais: 7000\n",
            "Insira o estoque em reais: 100\n",
            "Insira as contas a receber em reais: 100\n",
            "Insira os fornecedores em reais: 600\n",
            "Insira o numero de dias do balanço em inteiro: 360\n",
            "pme é: 5.142857142857142, pmr é: 3.6, pmp é: 30.857142857142858, co é: 8.742857142857142, cc é: -22.114285714285714\n",
            "Essa empresa paga em média 22 após receber\n"
          ]
        }
      ]
    },
    {
      "cell_type": "code",
      "source": [
        "'''\n",
        "Faça uma função sem parâmetro que ao ser acionada solicite ao usuário uma\n",
        "sequência númerica em uma única caixa de texto e separada por espaços e então\n",
        "após o usuário inserir os valores corretos a função devolva um print informando\n",
        "o valor da média, da variância e do desvio padrão da sequência informada\n",
        "'''\n",
        "def fun():\n",
        "  lista = input('Insira uma sequencia numérica separada por espaços: ')\n",
        "  x = lista.split()\n",
        "  for n in range(0, len(x)):\n",
        "    x[n] = float(x[n])\n",
        "  mediax = (sum(x) / len(x))\n",
        "  var_x = 0\n",
        "  for v in x:\n",
        "    var_x += ((v - mediax) ** 2) / (len(x) - 1)\n",
        "  desvx = var_x ** (1/2)\n",
        "  print(f'O valor da média é: {mediax:.2f}'),\n",
        "  print(f'O valor da variância é: {var_x:.2f}'),\n",
        "  print(f'O valor do desvio padrão é: {desvx:.2f}')"
      ],
      "metadata": {
        "id": "no8rvQ6qd_fr"
      },
      "execution_count": null,
      "outputs": []
    },
    {
      "cell_type": "code",
      "source": [
        "fun()"
      ],
      "metadata": {
        "colab": {
          "base_uri": "https://localhost:8080/"
        },
        "id": "RRw3baQzgGij",
        "outputId": "d800ce15-07b2-496f-d3b5-265204caa986"
      },
      "execution_count": null,
      "outputs": [
        {
          "output_type": "stream",
          "name": "stdout",
          "text": [
            "Insira uma sequencia numérica separada por espaços: 1 2 3 4 5\n",
            "O valor da média é: 3.0\n",
            "O valor da variância é: 2.5\n",
            "O valor do desvio padrão é: 1.58\n"
          ]
        }
      ]
    }
  ]
}